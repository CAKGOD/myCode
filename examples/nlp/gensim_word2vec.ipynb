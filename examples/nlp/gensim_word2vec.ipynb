{
 "cells": [
  {
   "cell_type": "code",
   "execution_count": 9,
   "metadata": {},
   "outputs": [],
   "source": [
    "import jieba\n",
    "import jieba.analyse\n",
    "\n",
    "jieba.suggest_freq('沙瑞金', True)\n",
    "jieba.suggest_freq('田国富', True)\n",
    "jieba.suggest_freq('高育良', True)\n",
    "jieba.suggest_freq('侯亮平', True)\n",
    "jieba.suggest_freq('钟小艾', True)\n",
    "jieba.suggest_freq('陈岩石', True)\n",
    "jieba.suggest_freq('欧阳菁', True)\n",
    "jieba.suggest_freq('易学习', True)\n",
    "jieba.suggest_freq('王大路', True)\n",
    "jieba.suggest_freq('蔡成功', True)\n",
    "jieba.suggest_freq('孙连城', True)\n",
    "jieba.suggest_freq('季昌明', True)\n",
    "jieba.suggest_freq('丁义珍', True)\n",
    "jieba.suggest_freq('郑西坡', True)\n",
    "jieba.suggest_freq('赵东来', True)\n",
    "jieba.suggest_freq('高小琴', True)\n",
    "jieba.suggest_freq('赵瑞龙', True)\n",
    "jieba.suggest_freq('林华华', True)\n",
    "jieba.suggest_freq('陆亦可', True)\n",
    "jieba.suggest_freq('刘新建', True)\n",
    "jieba.suggest_freq('刘庆祝', True)\n",
    "\n",
    "with open('../../../data/nlp数据/人民的名义.txt') as f:\n",
    "    data = f.read()\n",
    "\n",
    "data_cut = jieba.cut(data)\n",
    "data_cut_join = ' '.join(data_cut)\n",
    "with open('../../../data/nlp数据/人民的名义-分词.txt', 'w') as f:\n",
    "    f.write(data_cut_join)"
   ]
  },
  {
   "cell_type": "code",
   "execution_count": 10,
   "metadata": {},
   "outputs": [
    {
     "name": "stderr",
     "output_type": "stream",
     "text": [
      "2021-02-25 16:03:41,193 : INFO : collecting all words and their counts\n",
      "2021-02-25 16:03:41,194 : INFO : PROGRESS: at sentence #0, processed 0 words, keeping 0 word types\n",
      "2021-02-25 16:03:41,233 : INFO : collected 17878 word types from a corpus of 161343 raw words and 2311 sentences\n",
      "2021-02-25 16:03:41,233 : INFO : Loading a fresh vocabulary\n",
      "2021-02-25 16:03:41,255 : INFO : effective_min_count=1 retains 17878 unique words (100% of original 17878, drops 0)\n",
      "2021-02-25 16:03:41,256 : INFO : effective_min_count=1 leaves 161343 word corpus (100% of original 161343, drops 0)\n",
      "2021-02-25 16:03:41,296 : INFO : deleting the raw counts dictionary of 17878 items\n",
      "2021-02-25 16:03:41,297 : INFO : sample=0.001 downsamples 38 most-common words\n",
      "2021-02-25 16:03:41,297 : INFO : downsampling leaves estimated 120578 word corpus (74.7% of prior 161343)\n",
      "2021-02-25 16:03:41,307 : INFO : constructing a huffman tree from 17878 words\n",
      "2021-02-25 16:03:41,621 : INFO : built huffman tree with maximum node depth 17\n",
      "2021-02-25 16:03:41,639 : INFO : estimated required memory for 17878 words and 100 dimensions: 33968200 bytes\n",
      "2021-02-25 16:03:41,640 : INFO : resetting layer weights\n",
      "2021-02-25 16:03:43,832 : INFO : training model with 3 workers on 17878 vocabulary and 100 features, using sg=0 hs=1 sample=0.001 negative=5 window=3\n",
      "2021-02-25 16:03:43,963 : INFO : worker thread finished; awaiting finish of 2 more threads\n",
      "2021-02-25 16:03:43,967 : INFO : worker thread finished; awaiting finish of 1 more threads\n",
      "2021-02-25 16:03:43,979 : INFO : worker thread finished; awaiting finish of 0 more threads\n",
      "2021-02-25 16:03:43,980 : INFO : EPOCH - 1 : training on 161343 raw words (120329 effective words) took 0.1s, 822137 effective words/s\n",
      "2021-02-25 16:03:44,127 : INFO : worker thread finished; awaiting finish of 2 more threads\n",
      "2021-02-25 16:03:44,128 : INFO : worker thread finished; awaiting finish of 1 more threads\n",
      "2021-02-25 16:03:44,131 : INFO : worker thread finished; awaiting finish of 0 more threads\n",
      "2021-02-25 16:03:44,132 : INFO : EPOCH - 2 : training on 161343 raw words (120533 effective words) took 0.2s, 802001 effective words/s\n",
      "2021-02-25 16:03:44,260 : INFO : worker thread finished; awaiting finish of 2 more threads\n",
      "2021-02-25 16:03:44,262 : INFO : worker thread finished; awaiting finish of 1 more threads\n",
      "2021-02-25 16:03:44,269 : INFO : worker thread finished; awaiting finish of 0 more threads\n",
      "2021-02-25 16:03:44,270 : INFO : EPOCH - 3 : training on 161343 raw words (120594 effective words) took 0.1s, 880361 effective words/s\n",
      "2021-02-25 16:03:44,408 : INFO : worker thread finished; awaiting finish of 2 more threads\n",
      "2021-02-25 16:03:44,409 : INFO : worker thread finished; awaiting finish of 1 more threads\n",
      "2021-02-25 16:03:44,421 : INFO : worker thread finished; awaiting finish of 0 more threads\n",
      "2021-02-25 16:03:44,422 : INFO : EPOCH - 4 : training on 161343 raw words (120490 effective words) took 0.1s, 804755 effective words/s\n",
      "2021-02-25 16:03:44,552 : INFO : worker thread finished; awaiting finish of 2 more threads\n",
      "2021-02-25 16:03:44,553 : INFO : worker thread finished; awaiting finish of 1 more threads\n",
      "2021-02-25 16:03:44,559 : INFO : worker thread finished; awaiting finish of 0 more threads\n",
      "2021-02-25 16:03:44,559 : INFO : EPOCH - 5 : training on 161343 raw words (120711 effective words) took 0.1s, 882965 effective words/s\n",
      "2021-02-25 16:03:44,560 : INFO : training on a 806715 raw words (602657 effective words) took 0.7s, 828614 effective words/s\n"
     ]
    }
   ],
   "source": [
    "import logging\n",
    "import os\n",
    "from gensim.models import word2vec\n",
    "\n",
    "logging.basicConfig(format='%(asctime)s : %(levelname)s : %(message)s', level=logging.INFO)\n",
    "\n",
    "sentences = word2vec.LineSentence('../../../data/nlp数据/人民的名义-分词.txt') \n",
    "\n",
    "model = word2vec.Word2Vec(sentences, hs=1, min_count=1, window=3, size=100)"
   ]
  },
  {
   "cell_type": "code",
   "execution_count": 15,
   "metadata": {},
   "outputs": [
    {
     "name": "stdout",
     "output_type": "stream",
     "text": [
      "高育良 0.967610239982605\n",
      "田国富 0.945193350315094\n",
      "侯亮平 0.9433197379112244\n",
      "李达康 0.942553699016571\n",
      "易学习 0.940966010093689\n"
     ]
    }
   ],
   "source": [
    "req_count = 5\n",
    "for key in model.wv.similar_by_word('沙瑞金', topn=100):\n",
    "    if len(key[0]) == 3:\n",
    "        req_count -= 1\n",
    "        print(key[0], key[1])\n",
    "        if req_count == 0:\n",
    "            break"
   ]
  },
  {
   "cell_type": "code",
   "execution_count": 19,
   "metadata": {},
   "outputs": [
    {
     "name": "stdout",
     "output_type": "stream",
     "text": [
      "0.9360379\n",
      "0.9091533\n"
     ]
    }
   ],
   "source": [
    "print(model.wv.similarity('沙瑞金', '祁同伟'))\n",
    "print(model.wv.similarity('钟小艾', '侯亮平'))"
   ]
  },
  {
   "cell_type": "code",
   "execution_count": 22,
   "metadata": {},
   "outputs": [
    {
     "name": "stdout",
     "output_type": "stream",
     "text": [
      "沙瑞金\n"
     ]
    }
   ],
   "source": [
    "print(model.wv.doesnt_match(u\"沙瑞金 侯亮平 李达康 祁同伟\".split()))"
   ]
  }
 ],
 "metadata": {
  "kernelspec": {
   "display_name": "Python 3",
   "language": "python",
   "name": "python3"
  },
  "language_info": {
   "codemirror_mode": {
    "name": "ipython",
    "version": 3
   },
   "file_extension": ".py",
   "mimetype": "text/x-python",
   "name": "python",
   "nbconvert_exporter": "python",
   "pygments_lexer": "ipython3",
   "version": "3.8.5"
  }
 },
 "nbformat": 4,
 "nbformat_minor": 4
}
