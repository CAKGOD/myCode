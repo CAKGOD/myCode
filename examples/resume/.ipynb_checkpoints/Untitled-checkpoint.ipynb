{
 "cells": [
  {
   "cell_type": "code",
   "execution_count": 35,
   "metadata": {},
   "outputs": [],
   "source": [
    "f = open('../../../data/otherResume/人工智能工程师-boss.txt')\n",
    "data = [i.strip() for i in f.readlines()]\n",
    "f.close()\n",
    "\n",
    "resume_index, split_index = [], []\n",
    "for i in range(len(data)):\n",
    "    if ':INFO:CONSOLE(35)' in data[i]:\n",
    "        resume_index.append(i)\n",
    "    if '*************************一条完美的分隔符*************************' in data[i]:\n",
    "        split_index.append(i)\n",
    "    continue\n",
    "\n",
    "resume_contents = []\n",
    "for i in range(len(resume_index)):\n",
    "    resume_content = ''\n",
    "    for j in range(resume_index[i], split_index[i]):\n",
    "        resume_content += data[j]\n",
    "    resume_contents.append(resume_content.split(':INFO:CONSOLE(35)] ')[1].split(', source: chrome-extension:')[0][1:-1])"
   ]
  },
  {
   "cell_type": "code",
   "execution_count": 61,
   "metadata": {},
   "outputs": [
    {
     "name": "stdout",
     "output_type": "stream",
     "text": [
      "  元成科  刚刚活跃   25岁  3年  本科   多面的计算机经验，一年的NLP自然语言处理工作经验，掌握机器学习深度学习内容。喜欢钻研前沿的技术，相信未来AI将改变世界，个人逻辑强，思维敏捷，  期望职位 人工智能  数据服务·计算机软件·互联网  14-16K   工作经历 2018.08 - 2019.08 西安贝业思数据智能技术服务有限公司  人工智能    内容 1.进行自然语言处理基础工具的开发、改进与应用，对于文本进行分类2.参与探索深度学习在自然语言处理领域中的应用，实现切实有效的深度学习模型；3.结合应用NLP，AI、ML等技术解决实际问题；4.根据业务要求建立和更新相关词库，以及相关的知识图谱的建设；5.与产品研发团队协作，将算法融入产品。 机器学习算法人工智能 ! 最近一份工作经历可能未更新询问牛人  项目经验 2019.03 - 2019.07 新闻文本分类及预测开发工程师 成绩 项目职责：1.对数据集进行预处理，接近84万条新闻数据2.搭建CNN神经网络架构3.建立分类预测模型，调整参数4.优化模型，提高速度，采用多线程方法去处理数据5.模型准确率最后达到95% 内容 项目背景：以西安日报、西安晚报、西安新闻网等为核心并携43个业务管理部门和企业法人单位共同组成的西安报业传媒集团，承担着西安各种新闻曝光的重要工作，每天有着大量的新闻，对于这些新闻稿子是什么类型的，基本内容是什么，对于这种情况，去建立提取关键字、文本分类的深度学习模型，从而对大量为新闻稿子进行分类，并且根据前Top10关键字大概就能了解新闻大概的内容。 2018.11 - 2019.06 招聘数据_公司行业分类毕业生 成绩 1、爬取智联招聘数据2、数据准备：数据检视、数据转换，数据分割，数据重构3、数据建模与数据可视化，用到决策树、朴素贝叶斯和SVM算法4、模型能很好的进行公司行业分类，提高效率 内容 项目地点：西安工业大学实验室项目背景：寻找划分公司所属行业的最佳模型。招聘网站是提供招聘信息的网站，用人公司在该网站发布招聘信息时，除了岗位、薪资、技能要求等外，还需要填写公司概述和公司所属行业，其中行业是由网站受控词表控制的，不能使用自然语言的填写，所以为招聘网站推出一个新功能：网站可以根据公司的概述自动匹配公司所属行业。 2018.08 - 2018.12 用户评价情感分析开发工程师 成绩 项目职责：1. 爬取数据，对数据进行预处理，完成数据清洗2. 建立停用词表，完成分词3. 使用word2vec方法建立词向量模型4. 构建情感判断分析模型，使用逻辑回归和LSTM构建模型 内容 项目背景：用户在使用酒店之后会有一个用户体验反馈评价，大致我们分为积极、消极与中性三个方面。基于此环境下，去建立情感分类模型。当输入酒店评价的时候，输出属于哪种类型的评价，并且输出Top5关键字，根据提取出这些关键词，根据这些用户体验反馈去调整酒店的管理，最终提升用户的使用体验，商业利益最大化。  教育经历 2015 - 2019 西安工商学院  电子信息工程 本科 本人的意向是NLP自然语言处理工程师/NLP数据挖掘工程师。 本人对计算机技术有着很大的兴趣的，从小就接触计算机，在大数据人工智能发展的时代，我毅然投身IT行业，励志未来走在行业的尖端，从上大学开始就接触机器学习，深度学习，一直抱着学习的心态继续自己的梦想。          \n"
     ]
    }
   ],
   "source": [
    "from bs4 import BeautifulSoup\n",
    "soup = BeautifulSoup(resume_contents[0], 'lxml')\n",
    "#print(soup)\n",
    "print(soup.get_text())\n",
    "#print(soup.prettify())\n",
    "#print(soup.title)\n",
    "#print(soup.body)\n",
    "#print(soup.body.div)\n",
    "#print(soup.find_all('div', class_='name'))"
   ]
  },
  {
   "cell_type": "code",
   "execution_count": 37,
   "metadata": {},
   "outputs": [
    {
     "name": "stdout",
     "output_type": "stream",
     "text": [
      "<div data-v-0b04fc25=\"\" class=\"resume-item item-base\"><div data-v-0b04fc25=\"\" class=\"figure\"><img data-v-0b04fc25=\"\" src=\"https://img.bosszhipin.com/boss/avatar/avatar_15.png\" data-large=\"https://img.bosszhipin.com/boss/avatar/avatar_15.png\" alt=\"\" class=\"\"> <!----></div> <div data-v-0b04fc25=\"\" class=\"item-right\"><div data-v-0b04fc25=\"\"><h2 data-v-0b04fc25=\"\" class=\"name\"><div data-v-0b04fc25=\"\" class=\"geek-name\">元成科</div> <i data-v-0b04fc25=\"\" class=\"iboss-icon_man\"></i> <span data-v-0b04fc25=\"\" class=\"text-orange\">刚刚活跃</span> <!----></h2> <div data-v-0b04fc25=\"\" class=\"info-labels fr\"><span data-v-0b04fc25=\"\" class=\"label-text\"><i data-v-0b04fc25=\"\" class=\"fz fz-age\"></i> <span data-v-0b04fc25=\"\">25岁</span></span> <em data-v-0b04fc25=\"\" class=\"vline\"></em> <span data-v-0b04fc25=\"\" class=\"label-text\"><i data-v-0b04fc25=\"\" class=\"fz fz-experience\"></i>3年</span> <em data-v-0b04fc25=\"\" class=\"vline\"></em> <span data-v-0b04fc25=\"\" class=\"label-text\"><i data-v-0b04fc25=\"\" class=\"fz fz-degree\"></i>本科</span> <!----></div></div> <!----> <div data-v-0b04fc25=\"\" data-high-light=\"true\" class=\"text selfDescription\">多面的计算机经验，一年的NLP自然语言处理工作经验，掌握机器学习深度学习内容。喜欢钻研前沿的技术，相信未来AI将改变世界，个人逻辑强，思维敏捷，</div></div></div> <!----> <div data-v-0b04fc25=\"\" class=\"resume-item\"><h3 data-v-0b04fc25=\"\" class=\"title\">期望职位</h3> <div data-v-0b04fc25=\"\" class=\"item-right\"><div data-v-0b04fc25=\"\" class=\"info-labels\"><span data-v-0b04fc25=\"\" class=\"label-text\">人工智能</span> <em data-v-0b04fc25=\"\" class=\"vline\"></em> <span data-v-0b04fc25=\"\" class=\"label-text\">数据服务·计算机软件·互联网</span> <em data-v-0b04fc25=\"\" class=\"vline\"></em> <span data-v-0b04fc25=\"\" class=\"label-text\">14-16K</span></div> <!----></div></div> <!----> <div data-v-0b04fc25=\"\" class=\"resume-item\"><h3 data-v-0b04fc25=\"\" class=\"title\">工作经历</h3> <div data-v-0b04fc25=\"\" class=\"item-right\"><div data-v-0b04fc25=\"\" class=\"history-list\"><div data-v-0b04fc25=\"\" class=\"history-item\"><span data-v-0b04fc25=\"\" class=\"period\">2018.08 - 2019.08</span> <h4 data-v-0b04fc25=\"\" class=\"name\"><a data-v-6ddd1a04=\"\" data-v-0b04fc25=\"\" href=\"javascript:;\" class=\"helper-company\"><span data-v-6ddd1a04=\"\" class=\"helper-text\">西安贝业思数据智能技术服务有限公司</span></a> <em data-v-0b04fc25=\"\" class=\"vline\"></em> <span data-v-0b04fc25=\"\">人工智能</span> <!----> <!----></h4> <!----> <div data-v-0b04fc25=\"\" class=\"item-text\"><span data-v-0b04fc25=\"\" class=\"project-title\">内容</span> <div data-v-0b04fc25=\"\" data-high-light=\"true\" class=\"text\">1.进行自然语言处理基础工具的开发、改进与应用，对于文本进行分类2.参与探索深度学习在自然语言处理领域中的应用，实现切实有效的深度学习模型；3.结合应用NLP，AI、ML等技术解决实际问题；4.根据业务要求建立和更新相关词库，以及相关的知识图谱的建设；5.与产品研发团队协作，将算法融入产品。</div> <p data-v-0b04fc25=\"\" class=\"tags\"><span data-v-0b04fc25=\"\" class=\"\">机器学习</span><span data-v-0b04fc25=\"\" class=\"\">算法</span><span data-v-0b04fc25=\"\" class=\"\">人工智能</span></p></div> <div data-v-4bd11d7c=\"\" data-v-0b04fc25=\"\" class=\"resume-helper-experience top\"><span data-v-4bd11d7c=\"\" class=\"helper-icon\">!</span> <span data-v-4bd11d7c=\"\" class=\"helper-hover\">最近一份工作经历可能未更新<a data-v-4bd11d7c=\"\" href=\"javascript:;\">询问牛人</a></span></div></div></div></div></div> <!----> <div data-v-0b04fc25=\"\" class=\"resume-item\"><h3 data-v-0b04fc25=\"\" class=\"title\">项目经验</h3> <div data-v-0b04fc25=\"\" class=\"item-right\"><div data-v-0b04fc25=\"\" class=\"history-list\"><div data-v-0b04fc25=\"\" class=\"history-item\"><span data-v-0b04fc25=\"\" class=\"period\">2019.03 - 2019.07</span> <h4 data-v-0b04fc25=\"\" class=\"name\">新闻文本分类及预测<em data-v-0b04fc25=\"\" class=\"vline\"></em>开发工程师</h4> <div data-v-0b04fc25=\"\" class=\"item-text\"><span data-v-0b04fc25=\"\" class=\"project-title\">成绩</span> <div data-v-0b04fc25=\"\" data-high-light=\"true\" class=\"text\">项目职责：1.对数据集进行预处理，接近84万条<font class=\"font-hightlight \">新闻数据</font>2.搭建<font class=\"font-hightlight \">CNN</font>神经网络架构3.建立分类预测模型，<font class=\"font-hightlight \">调整参数</font>4.优化模型，提高速度，采用多线程方法去处理数据5.模型准确率最后达到95%</div></div> <div data-v-0b04fc25=\"\" class=\"item-text\"><span data-v-0b04fc25=\"\" class=\"project-title\">内容</span> <div data-v-0b04fc25=\"\" data-high-light=\"true\" class=\"text project-content\">项目背景：以西安日报、西安晚报、西安新闻网等为核心并携43个业务管理部门和企业法人单位共同组成的西安报业传媒集团，承担着西安各种新闻曝光的重要工作，每天有着大量的新闻，对于这些新闻稿子是什么类型的，基本内容是什么，对于这种情况，去建立提取关键字、<font class=\"font-hightlight \">文本分类</font>的深度学习模型，从而对大量为新闻稿子进行分类，并且根据前Top10关键字大概就能了解新闻大概的内容。</div></div> <!----></div><div data-v-0b04fc25=\"\" class=\"history-item\"><span data-v-0b04fc25=\"\" class=\"period\">2018.11 - 2019.06</span> <h4 data-v-0b04fc25=\"\" class=\"name\">招聘数据_公司行业分类<em data-v-0b04fc25=\"\" class=\"vline\"></em>毕业生</h4> <div data-v-0b04fc25=\"\" class=\"item-text\"><span data-v-0b04fc25=\"\" class=\"project-title\">成绩</span> <div data-v-0b04fc25=\"\" data-high-light=\"true\" class=\"text\">1、爬取智联招聘数据2、<font class=\"font-hightlight \">数据准备</font>：数据检视、数据转换，<font class=\"font-hightlight \">数据分割</font>，数据重构3、数据建模与数据可视化，用到决策树、<font class=\"font-hightlight \">朴素贝叶斯</font>和<font class=\"font-hightlight \">SVM</font>算法4、模型能很好的进行公司行业分类，提高效率</div></div> <div data-v-0b04fc25=\"\" class=\"item-text\"><span data-v-0b04fc25=\"\" class=\"project-title\">内容</span> <div data-v-0b04fc25=\"\" data-high-light=\"true\" class=\"text project-content\">项目地点：西安工业大学实验室项目背景：寻找划分公司所属行业的最佳模型。招聘网站是提供招聘信息的网站，用人公司在该网站发布招聘信息时，除了岗位、薪资、技能要求等外，还需要填写公司概述和公司所属行业，其中行业是由网站受控词表控制的，不能使用自然语言的填写，所以为招聘网站推出一个新功能：网站可以根据公司的概述自动匹配公司所属行业。</div></div> <!----></div><div data-v-0b04fc25=\"\" class=\"history-item\"><span data-v-0b04fc25=\"\" class=\"period\">2018.08 - 2018.12</span> <h4 data-v-0b04fc25=\"\" class=\"name\">用户评价情感分析<em data-v-0b04fc25=\"\" class=\"vline\"></em>开发工程师</h4> <div data-v-0b04fc25=\"\" class=\"item-text\"><span data-v-0b04fc25=\"\" class=\"project-title\">成绩</span> <div data-v-0b04fc25=\"\" data-high-light=\"true\" class=\"text\">项目职责：1. 爬取数据，对数据进行预处理，完成数据清洗2. 建立停用词表，完成分词3. 使用<font class=\"font-hightlight \">word2vec</font>方法建立词<font class=\"font-hightlight \">向量模型</font>4. 构建情感判断<font class=\"font-hightlight \">分析模型</font>，使用逻辑回归和<font class=\"font-hightlight \">LSTM</font><font class=\"font-hightlight \">构建模型</font></div></div> <div data-v-0b04fc25=\"\" class=\"item-text\"><span data-v-0b04fc25=\"\" class=\"project-title\">内容</span> <div data-v-0b04fc25=\"\" data-high-light=\"true\" class=\"text project-content\">项目背景：用户在使用酒店之后会有一个用户体验反馈评价，大致我们分为积极、消极与中性三个方面。基于此环境下，去建立<font class=\"font-hightlight \">情感分类</font>模型。当输入酒店评价的时候，输出属于哪种类型的评价，并且输出Top5关键字，根据提取出这些关键词，根据这些用户体验反馈去调整酒店的管理，最终提升用户的使用体验，商业利益最大化。</div></div> <!----></div></div></div></div> <div data-v-0b04fc25=\"\" class=\"resume-item\"><h3 data-v-0b04fc25=\"\" class=\"title\">教育经历</h3> <div data-v-0b04fc25=\"\" class=\"item-right\"><div data-v-0b04fc25=\"\" class=\"history-list\"><div data-v-0b04fc25=\"\" class=\"history-item\"><span data-v-0b04fc25=\"\" class=\"period\">2015 - 2019</span> <h4 data-v-0b04fc25=\"\" class=\"name\"><b data-v-0b04fc25=\"\">西安工商学院</b> <em data-v-0b04fc25=\"\" class=\"vline\"></em> <b data-v-0b04fc25=\"\">电子信息工程</b> <em data-v-0b04fc25=\"\" class=\"vline\"></em>本科<!----></h4> <div data-v-0b04fc25=\"\" class=\"text\">本人的意向是NLP自然语言处理工程师/NLP数据挖掘工程师。 本人对计算机技术有着很大的兴趣的，从小就接触计算机，在大数据人工智能发展的时代，我毅然投身IT行业，励志未来走在行业的尖端，从上大学开始就接触机器学习，深度学习，一直抱着学习的心态继续自己的梦想。</div> <p data-v-0b04fc25=\"\" class=\"tags school-tags\"></p> <!----></div></div></div></div> <!----> <!----> <!----> <!----> <!----> <!----> <!----> <div data-v-0b04fc25=\"\"><!----></div>\n"
     ]
    }
   ],
   "source": [
    "#print(resume_index)\n",
    "#print(split_index)\n",
    "print(resume_contents[0])"
   ]
  },
  {
   "cell_type": "code",
   "execution_count": 25,
   "metadata": {},
   "outputs": [
    {
     "name": "stdout",
     "output_type": "stream",
     "text": [
      "[3700:3700:0210/150202.302061:INFO:CONSOLE(35)] \"<div data-v-0b04fc25=\"\" class=\"resume-item item-base\"><div data-v-0b04fc25=\"\" class=\"figure\"><img data-v-0b04fc25=\"\" src=\"https://img.bosszhipin.com/boss/avatar/avatar_15.png\" data-large=\"https://img.bosszhipin.com/boss/avatar/avatar_15.png\" alt=\"\" class=\"\"> <!----></div> <div data-v-0b04fc25=\"\" class=\"item-right\"><div data-v-0b04fc25=\"\"><h2 data-v-0b04fc25=\"\" class=\"name\"><div data-v-0b04fc25=\"\" class=\"geek-name\">王学军</div> <i data-v-0b04fc25=\"\" class=\"iboss-icon_man\"></i> <span data-v-0b04fc25=\"\" class=\"text-orange\">刚刚活跃</span> <!----></h2> <div data-v-0b04fc25=\"\" class=\"info-labels fr\"><span data-v-0b04fc25=\"\" class=\"label-text\"><i data-v-0b04fc25=\"\" class=\"fz fz-age\"></i> <span data-v-0b04fc25=\"\">36岁</span></span> <em data-v-0b04fc25=\"\" class=\"vline\"></em> <span data-v-0b04fc25=\"\" class=\"label-text\"><i data-v-0b04fc25=\"\" class=\"fz fz-experience\"></i>3年</span> <em data-v-0b04fc25=\"\" class=\"vline\"></em> <span data-v-0b04fc25=\"\" class=\"label-text\"><i data-v-0b04fc25=\"\" class=\"fz fz-degree\"></i>硕士</span> <em data-v-0b04fc25=\"\" class=\"vline\"></em> <span data-v-0b04fc25=\"\" class=\"label-text\"><i data-v-0b04fc25=\"\" class=\"fz fz-status\"></i>离职-随时到岗</span></div></div> <!----> <div data-v-0b04fc25=\"\" data-high-light=\"true\" class=\"text selfDescription\">熟悉C++、python。熟悉ROS、视觉<font class=\"font-hightlight \">slam</font>。熟悉Eigen、ceres、pcl点云库、g2o等库。熟悉基本的机器学习算法：<font class=\"font-hightlight \">分类模型</font>、<font class=\"font-hightlight \">回归模型</font>、<font class=\"font-hightlight \">聚类模型</font>。熟悉逻辑回归、<font class=\"font-hightlight \">Svm</font>、<font class=\"font-hightlight \">GBDT</font>、<font class=\"font-hightlight \">XGBoost</font>。熟悉CNN、<font class=\"font-hightlight \">LSTM</font>等<font class=\"font-hightlight \">深度神经网络</font>。熟悉经典数字图像处理理论。</div></div></div> <!----> <div data-v-0b04fc25=\"\" class=\"resume-item\"><h3 data-v-0b04fc25=\"\" class=\"title\">期望职位</h3> <div data-v-0b04fc25=\"\" class=\"item-right\"><div data-v-0b04fc25=\"\" class=\"info-labels\"><span data-v-0b04fc25=\"\" class=\"label-text\">算法工程师</span> <em data-v-0b04fc25=\"\" class=\"vline\"></em> <span data-v-0b04fc25=\"\" class=\"label-text\">行业不限</span> <em data-v-0b04fc25=\"\" class=\"vline\"></em> <span data-v-0b04fc25=\"\" class=\"label-text\">18-30K</span></div> <!----></div></div> <div data-v-0b04fc25=\"\" class=\"resume-item resume-station\"><h3 data-v-0b04fc25=\"\" class=\"title\"><div data-v-0b04fc25=\"\" class=\"icon-vip icon-vip-job-experence\"></div>岗位经验</h3> <div data-v-0b04fc25=\"\" class=\"item-right\"><p data-v-0b04fc25=\"\" class=\"tags\"><span data-v-0b04fc25=\"\">算法工程师 5个月</span> <!----></p></div></div> <div data-v-0b04fc25=\"\" class=\"resume-item\"><h3 data-v-0b04fc25=\"\" class=\"title\">工作经历</h3> <div data-v-0b04fc25=\"\" class=\"item-right\"><div data-v-0b04fc25=\"\" class=\"history-list\"><div data-v-0b04fc25=\"\" class=\"history-item\"><span data-v-0b04fc25=\"\" class=\"period\">2020.06 - 2020.10</span> <h4 data-v-0b04fc25=\"\" class=\"name\"><a data-v-6ddd1a04=\"\" data-v-0b04fc25=\"\" href=\"javascript:;\" class=\"helper-company\"><span data-v-6ddd1a04=\"\" class=\"helper-text\">天津卡雷尔机器人技术有限公司</span></a> <em data-v-0b04fc25=\"\" class=\"vline\"></em> <span data-v-0b04fc25=\"\">算法工程师</span> <!----> <!----></h4> <!----> <div data-v-0b04fc25=\"\" class=\"item-text\"><span data-v-0b04fc25=\"\" class=\"project-title\">内容</span> <div data-v-0b04fc25=\"\" data-high-light=\"true\" class=\"text\">使用激光雷达扫图，使用建图包通过雷达点云建图。创建goal包，编辑程序实现向机器人发送目标点，并使其定位导航到目标点。与电机驱动工程师在机器人底盘上联合测试。</div> <p data-v-0b04fc25=\"\" class=\"tags\"><span data-v-0b04fc25=\"\" class=\"\">C++</span><span data-v-0b04fc25=\"\" class=\"tag-hightlight\">视觉图像算法</span></p></div> <!----></div><div data-v-0b04fc25=\"\" class=\"history-item\"><span data-v-0b04fc25=\"\" class=\"period\">2020.04 - 2020.06</span> <h4 data-v-0b04fc25=\"\" class=\"name\"><span data-v-0b04fc25=\"\">北京平恒智能科技有限公司</span> <em data-v-0b04fc25=\"\" class=\"vline\"></em> <span data-v-0b04fc25=\"\">图像识别</span> <!----> <!----></h4> <!----> <div data-v-0b04fc25=\"\" class=\"item-text\"><span data-v-0b04fc25=\"\" class=\"project-title\">内容</span> <div data-v-0b04fc25=\"\" data-high-light=\"true\" class=\"text\">基于公司现有软件框架，针对胶粘产品的缺陷测试，改进缺陷检测算法。</div> <p data-v-0b04fc25=\"\" class=\"tags\"><span data-v-0b04fc25=\"\" class=\"\">机器学习</span><span data-v-0b04fc25=\"\" class=\"\">人工智能</span></p></div> <!----></div><div data-v-0b04fc25=\"\" class=\"history-item\"><span data-v-0b04fc25=\"\" class=\"period\">2019.03 - 2019.09</span> <h4 data-v-0b04fc25=\"\" class=\"name\"><a data-v-6ddd1a04=\"\" data-v-0b04fc25=\"\" href=\"javascript:;\" class=\"helper-company\"><span data-v-6ddd1a04=\"\" class=\"helper-text\">德众通科技河北有限公司</span></a> <em data-v-0b04fc25=\"\" class=\"vline\"></em> <span data-v-0b04fc25=\"\">算法类</span> <!----> <!----></h4> <!----> <div data-v-0b04fc25=\"\" class=\"item-text\"><span data-v-0b04fc25=\"\" class=\"project-title\">内容</span> <div data-v-0b04fc25=\"\" data-high-light=\"true\" class=\"text\">优化公司现有产品、根据公司业务场景算法设计与分析。</div> <p data-v-0b04fc25=\"\" class=\"tags\"><span data-v-0b04fc25=\"\" class=\"\">人工智能</span><span data-v-0b04fc25=\"\" class=\"\">算法</span></p></div> <div data-v-4bd11d7c=\"\" data-v-0b04fc25=\"\" class=\"resume-helper-experience top\"><span data-v-4bd11d7c=\"\" class=\"helper-icon\">!</span> <span data-v-4bd11d7c=\"\" class=\"helper-hover\">两份工作间有7个月未填写工作经历<a data-v-4bd11d7c=\"\" href=\"javascript:;\">询问牛人</a></span></div></div></div></div></div> <!----> <div data-v-0b04fc25=\"\" class=\"resume-item\"><h3 data-v-0b04fc25=\"\" class=\"title\">项目经验</h3> <div data-v-0b04fc25=\"\" class=\"item-right\"><div data-v-0b04fc25=\"\" class=\"history-list\"><div data-v-0b04fc25=\"\" class=\"history-item\"><span data-v-0b04fc25=\"\" class=\"period\">2017.03 - 2018.02</span> <h4 data-v-0b04fc25=\"\" class=\"name\">文本检测<em data-v-0b04fc25=\"\" class=\"vline\"></em>设计</h4> <div data-v-0b04fc25=\"\" class=\"item-text\" style=\"display: none;\"><span data-v-0b04fc25=\"\" class=\"project-title\">成绩</span> <div data-v-0b04fc25=\"\" data-high-light=\"true\" class=\"text\"></div></div> <div data-v-0b04fc25=\"\" class=\"item-text\"><span data-v-0b04fc25=\"\" class=\"project-title\">内容</span> <div data-v-0b04fc25=\"\" data-high-light=\"true\" class=\"text project-content\">基于深度学习<font class=\"font-hightlight \">网络实现</font>银行卡<font class=\"font-hightlight \">文本识别</font>。项目主要分为<font class=\"font-hightlight \">文本检测</font>模块和<font class=\"font-hightlight \">文本识别</font>模块。<font class=\"font-hightlight \">文本检测</font>模块使用Connectionist Text Proposal Network(CTPN)检测<font class=\"font-hightlight \">文本区域</font>，主要基于Fast_<font class=\"font-hightlight \">Rcnn</font>、Vgg16、BiListm等<font class=\"font-hightlight \">深度神经网络</font>；<font class=\"font-hightlight \">文本识别</font>模块使用DenseNet、Connectionist Temporal Classification(CTC)对<font class=\"font-hightlight \">文本区域</font>中的文字进行识别。模型准确率在93.2273%。能够准确的定位并识别银行卡<font class=\"font-hightlight \">文本区域</font>。项目主要应用tensorflow 、python、 <font class=\"font-hightlight \">keras</font>。</div></div> <!----></div></div></div></div> <div data-v-0b04fc25=\"\" class=\"resume-item\"><h3 data-v-0b04fc25=\"\" class=\"title\">教育经历</h3> <div data-v-0b04fc25=\"\" class=\"item-right\"><div data-v-0b04fc25=\"\" class=\"history-list\"><div data-v-0b04fc25=\"\" class=\"history-item\"><span data-v-0b04fc25=\"\" class=\"period\">2015 - 2018</span> <h4 data-v-0b04fc25=\"\" class=\"name\"><b data-v-0b04fc25=\"\">河北大学</b> <em data-v-0b04fc25=\"\" class=\"vline\"></em> <b data-v-0b04fc25=\"\">检测技术与自动化装置</b> <em data-v-0b04fc25=\"\" class=\"vline\"></em>硕士<!----></h4> <div data-v-0b04fc25=\"\" class=\"text\">1、参与实验室项目2、获得河北大学二等奖学金3、主要课程：模式识别与人工智能，矩阵论，数值优化，自适应控制，数字图像处理、系统辨识、线性系统、传感器检测技术等</div> <p data-v-0b04fc25=\"\" class=\"tags school-tags\"></p> <!----></div></div></div></div> <!----> <!----> <!----> <!----> <!----> <!----> <!----> <div data-v-0b04fc25=\"\"><div data-v-3c8661f2=\"\" class=\"resume-anonymous-geek-card\"><p data-v-3c8661f2=\"\" class=\"title\">看过Ta的人还联系了</p> <div data-v-3c8661f2=\"\" class=\"card-container\"><div data-v-3c8661f2=\"\" data-suid=\"656415be4b0531573A~~\" data-jid=\"0\" data-expectid=\"130971308\" data-securityid=\"YW5SUn24ZEHDxpzqmyji5M81GldQT7E4vxPGCk-OWF9yBIyBqQlmqg93C81yDWSp8lAWemOkl6_2Jm5-cthBVvWeY6ZL6jZ3iTozBpoO0FZWZNbvQZYcNkPFMp5D7NyHh6I2dxsFDTubup7oBLgHxPIXkYRK1LztNYD_PwXYwAISGbcy7KU-F5eXsOpcUT4yLsCy5aaS5VNsXpykih3aBb81bWgIZubwDL1GA-0ExZiskzQ1stnMJHu9LHuv-ezB0g1ctUXoC6xlf8PaFDLhb2MCx-KwntoX2mq_a2p6-AGQ_MyG3xcNvl925oXTfrj4tA6NRN-oW5Q2zT96NKo4yMHN_xE~\" data-iselite=\"0\" class=\"card-inner clear-fix anonymous-geek-card\"><div data-v-3c8661f2=\"\" class=\"search-geek-avatar fl\"><div data-v-3c8661f2=\"\" class=\"avatar-box\"><i data-v-3c8661f2=\"\" class=\"iboss-icon_man\"></i> <img data-v-3c8661f2=\"\" src=\"https://img.bosszhipin.com/beijin/upload/avatar/20201109/d42f9ceed54d088926534c88ed5d8db4230e3c2d6192eda9c151610e973_b.jpg\"> <!----></div></div> <div data-v-3c8661f2=\"\" class=\"search-geek-info fl\"><div data-v-3c8661f2=\"\" class=\"name\"><img data-v-3c8661f2=\"\" src=\"https://zhipin.com/v2/web/boss/images/name-blur.png\"> <span data-v-3c8661f2=\"\" class=\"label-text\"></span></div> <div data-v-3c8661f2=\"\" class=\"geek-info-detail\"><div data-v-3c8661f2=\"\" class=\"geek-info-basic\"><div data-v-3c8661f2=\"\" class=\"info-labels\"><span data-v-3c8661f2=\"\" class=\"label-text\">28岁</span> <em data-v-3c8661f2=\"\" class=\"vline\"></em> <span data-v-3c8661f2=\"\" class=\"label-text\">2年</span> <em data-v-3c8661f2=\"\" class=\"vline\"></em> <span data-v-3c8661f2=\"\" class=\"label-text\">硕士</span> <em data-v-3c8661f2=\"\" class=\"vline\"></em> <span data-v-3c8661f2=\"\" class=\"label-text\">在职-暂不考虑</span> <em data-v-3c8661f2=\"\" class=\"vline\"></em> <span data-v-3c8661f2=\"\" class=\"label-text\">20-25K</span></div> <div data-v-3c8661f2=\"\" class=\"info-detail\">1.熟练掌握Matlab/Simulink, 熟悉C/C++,Linux.2.熟练掌握多传感器融合算法,如最近邻算法,卡尔曼滤波等.3.熟练掌握路径规划算法，如蚁群算法,A*等.3.熟练掌握CarMaker及NI进行HIL/SIL测试，熟悉AEB/FCW/LKA等算法.4.具备较好的英文文献阅读和撰写能力.5.良好的沟通和学习能力，热爱运动抗压能力强.</div></div> <div data-v-3c8661f2=\"\" class=\"geek-words-edus\"><ul data-v-3c8661f2=\"\" class=\"exp-box work-exp-box\"><i data-v-3c8661f2=\"\" class=\"iboss-xingzhuangjiehe1\"></i> <li data-v-3c8661f2=\"\"><span data-v-3c8661f2=\"\" class=\"date\">期望：</span> <span data-v-3c8661f2=\"\">北京·算法工程师</span></li></ul> <ul data-v-3c8661f2=\"\" class=\"exp-box work-exp-box dot-none\"><i data-v-3c8661f2=\"\" class=\"iboss-gongzuojingyan1\"></i> <li data-v-3c8661f2=\"\"><span data-v-3c8661f2=\"\" class=\"date\">职位：</span> <span data-v-3c8661f2=\"\">浙江鼎奕科技发展·控制策略工程师</span></li></ul> <!----></div></div></div></div></div></div></div>\", source: chrome-extension://dhdgffkkebhmkfjojejmpbldmpobfkfo/userscript.html?name=ZHIPIN%2520test.user.js&id=2f295a72-1cc8-45f9-a181-63cafe6b332c (35)\n"
     ]
    }
   ],
   "source": [
    "temp = ''\n",
    "for i in range(2870, 2913):\n",
    "    temp += data[i]\n",
    "print(temp)"
   ]
  },
  {
   "cell_type": "code",
   "execution_count": 20,
   "metadata": {},
   "outputs": [
    {
     "name": "stdout",
     "output_type": "stream",
     "text": [
      "[3700:3700:0210/150202.302061:INFO:CONSOLE(35)] \"<div data-v-0b04fc25=\"\" class=\"resume-item item-base\"><div data-v-0b04fc25=\"\" class=\"figure\"><img data-v-0b04fc25=\"\" src=\"https://img.bosszhipin.com/boss/avatar/avatar_15.png\" data-large=\"https://img.bosszhipin.com/boss/avatar/avatar_15.png\" alt=\"\" class=\"\"> <!----></div> <div data-v-0b04fc25=\"\" class=\"item-right\"><div data-v-0b04fc25=\"\"><h2 data-v-0b04fc25=\"\" class=\"name\"><div data-v-0b04fc25=\"\" class=\"geek-name\">王学军</div> <i data-v-0b04fc25=\"\" class=\"iboss-icon_man\"></i> <span data-v-0b04fc25=\"\" class=\"text-orange\">刚刚活跃</span> <!----></h2> <div data-v-0b04fc25=\"\" class=\"info-labels fr\"><span data-v-0b04fc25=\"\" class=\"label-text\"><i data-v-0b04fc25=\"\" class=\"fz fz-age\"></i> <span data-v-0b04fc25=\"\">36岁</span></span> <em data-v-0b04fc25=\"\" class=\"vline\"></em> <span data-v-0b04fc25=\"\" class=\"label-text\"><i data-v-0b04fc25=\"\" class=\"fz fz-experience\"></i>\n"
     ]
    }
   ],
   "source": [
    "temp = data[2870].strip()\n",
    "for i in range(2870, len(data)):\n",
    "    if data[i].strip()[0] != '[':\n",
    "        temp += data[i].strip()\n",
    "    else:\n",
    "        break\n",
    "print(temp)\n",
    "#print(temp.split(']')[1].split(', source: ')[0][2:-1])"
   ]
  },
  {
   "cell_type": "code",
   "execution_count": null,
   "metadata": {},
   "outputs": [],
   "source": []
  }
 ],
 "metadata": {
  "kernelspec": {
   "display_name": "Python 3",
   "language": "python",
   "name": "python3"
  },
  "language_info": {
   "codemirror_mode": {
    "name": "ipython",
    "version": 3
   },
   "file_extension": ".py",
   "mimetype": "text/x-python",
   "name": "python",
   "nbconvert_exporter": "python",
   "pygments_lexer": "ipython3",
   "version": "3.8.5"
  }
 },
 "nbformat": 4,
 "nbformat_minor": 4
}
