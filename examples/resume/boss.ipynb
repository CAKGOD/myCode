{
 "cells": [
  {
   "cell_type": "code",
   "execution_count": 13,
   "metadata": {},
   "outputs": [],
   "source": [
    "f = open('../../../data/resume/boss/北京算法工程师原始3.txt')\n",
    "data = [i.strip() for i in f.readlines()]\n",
    "f.close()\n",
    "\n",
    "resume_index, split_index = [], []\n",
    "for i in range(len(data)):\n",
    "    if ':INFO:CONSOLE(36)' in data[i]:\n",
    "        resume_index.append(i)\n",
    "    if '*************************一条完美的分隔符*************************' in data[i]:\n",
    "        split_index.append(i)\n",
    "    continue\n",
    "\n",
    "resume_contents = []\n",
    "for i in range(len(resume_index)):\n",
    "    resume_content = ''\n",
    "    for j in range(resume_index[i], split_index[i]):\n",
    "        resume_content += data[j]\n",
    "    #resume_contents.append(resume_content)\n",
    "    resume_contents.append(resume_content.split(':INFO:CONSOLE(36)] ')[1].split(', source: chrome-extension:')[0][1:-1])"
   ]
  },
  {
   "cell_type": "code",
   "execution_count": 14,
   "metadata": {
    "scrolled": false
   },
   "outputs": [],
   "source": [
    "from bs4 import BeautifulSoup\n",
    "import pandas as pd\n",
    "resume_contents = list(set(resume_contents))\n",
    "resumes = []\n",
    "for i in resume_contents:\n",
    "    soup = BeautifulSoup(i, 'lxml')\n",
    "    if soup.get_text() not in resumes:\n",
    "        resumes.append(soup.get_text())\n",
    "\n",
    "with open('../../../data/resume/boss/北京算法工程师.txt', 'a') as f:\n",
    "    for i in resumes:\n",
    "        f.write(i + '\\n')\n",
    "        f.write('*****************************************************************\\n')\n",
    "#print(resumes)\n",
    "#print(soup)\n",
    "#print(soup.get_text())\n",
    "#print(soup.prettify())\n",
    "#print(soup.title)\n",
    "#print(soup.body)\n",
    "#print(soup.body.div)\n",
    "#print(soup.get_text())\n",
    "#print('姓名', soup.find('div', 'geek-name').get_text())\n",
    "#temp = soup.find('div', 'info-labels fr').get_text().split('  ')\n",
    "#print('年龄', temp[0])\n",
    "#print('工作经验', temp[1])\n",
    "#print('学历', temp[2])\n",
    "#print('求职状态', temp[3])\n",
    "#print('个人简介', soup.find('div', 'text selfDescription').get_text())\n",
    "#for i in range(len(resume_contents)):\n",
    "#    resume_items = BeautifulSoup(resume_contents[i], 'lxml').find_all('div', 'resume-item')\n",
    "#    resume_dict = {'基本情况': 'None', '期望职位': 'None', '岗位经验': 'None', '工作经历': 'None', '项目经验': 'None', '教育经历': 'None', '资格证书': 'None'}\n",
    "#    for j in resume_items:\n",
    "#        if j.get_text()[0] == ' ':\n",
    "#            resume_dict['基本情况'] = j.get_text().strip()\n",
    "#        else:\n",
    "#            resume_dict[j.get_text()[0:4]] = j.get_text()[5:]\n",
    "#    pd.DataFrame(resume_dict, index=[i]).to_csv('../../../data/resume/resume.csv', header=False, mode='a')\n",
    "\n",
    "#temp_df = pd.DataFrame(resume_dict, columns=['基本情况', '期望职位', '岗位经验', '工作经历', '项目经验', '教育经历', '资格证书'], index=[0])\n",
    "#temp_df = pd.DataFrame(resume_dict, index=[0])\n",
    "#temp_df.to_csv('./temp.csv', header=False, mode='a')"
   ]
  },
  {
   "cell_type": "code",
   "execution_count": null,
   "metadata": {},
   "outputs": [],
   "source": []
  }
 ],
 "metadata": {
  "kernelspec": {
   "display_name": "Python 3",
   "language": "python",
   "name": "python3"
  },
  "language_info": {
   "codemirror_mode": {
    "name": "ipython",
    "version": 3
   },
   "file_extension": ".py",
   "mimetype": "text/x-python",
   "name": "python",
   "nbconvert_exporter": "python",
   "pygments_lexer": "ipython3",
   "version": "3.8.5"
  }
 },
 "nbformat": 4,
 "nbformat_minor": 4
}
