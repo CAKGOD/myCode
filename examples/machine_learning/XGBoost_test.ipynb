{
 "cells": [
  {
   "cell_type": "code",
   "execution_count": 0,
   "metadata": {
    "colab": {},
    "colab_type": "code",
    "id": "hOhGOOZ3-2AQ"
   },
   "outputs": [],
   "source": [
    "import pandas as pd\n",
    "import numpy as np\n",
    "import xgboost as xgb\n",
    "import matplotlib.pylab as plt\n",
    "plt.xkcd()\n",
    "%matplotlib inline\n",
    "from sklearn.model_selection import train_test_split, GridSearchCV\n",
    "from sklearn.metrics import accuracy_score,roc_auc_score,classification_report,confusion_matrix"
   ]
  },
  {
   "cell_type": "code",
   "execution_count": 0,
   "metadata": {
    "colab": {},
    "colab_type": "code",
    "id": "NBUDPoBO_5Y-"
   },
   "outputs": [],
   "source": [
    "from sklearn.datasets.samples_generator import make_classification\n",
    "# X为样本特征，y为样本类别输出，共10000个样本，每个样本20个特征，输出有2个类别，没有冗余特征，每个类别一个簇\n",
    "X, y = make_classification(n_samples=10000,\n",
    "               n_features=20,\n",
    "               n_redundant=0,\n",
    "               n_clusters_per_class=1,\n",
    "               n_classes=2,\n",
    "               flip_y=0.1)\n",
    "X_train, X_test, y_train, y_test = train_test_split(X, y, random_state=1)"
   ]
  },
  {
   "cell_type": "code",
   "execution_count": 0,
   "metadata": {
    "colab": {},
    "colab_type": "code",
    "id": "9JuD5gVQAfC3"
   },
   "outputs": [],
   "source": [
    "dtrain = xgb.DMatrix(X_train,y_train)\n",
    "dtest = xgb.DMatrix(X_test,y_test)"
   ]
  },
  {
   "cell_type": "markdown",
   "metadata": {
    "colab_type": "text",
    "id": "dn22DMQfAjh9"
   },
   "source": [
    "随机初始化了一个二分类的数据集，然后分成了训练集和验证集。使用训练集和验证集分别初始化了一个DMatrix，有了DMatrix，就可以做训练和预测了。"
   ]
  },
  {
   "cell_type": "code",
   "execution_count": 0,
   "metadata": {
    "colab": {
     "base_uri": "https://localhost:8080/",
     "height": 179
    },
    "colab_type": "code",
    "executionInfo": {
     "elapsed": 1292,
     "status": "ok",
     "timestamp": 1576739876144,
     "user": {
      "displayName": "ankang chu",
      "photoUrl": "https://lh3.googleusercontent.com/a-/AAuE7mAuIxhxsRb7j_rd4VVyK4bCBRTa_6h7_80neWOp=s64",
      "userId": "07574466021164400993"
     },
     "user_tz": -480
    },
    "id": "mFEOw38SArNu",
    "outputId": "b95944c8-30ca-4e17-ba47-5b5720b719db"
   },
   "outputs": [
    {
     "name": "stdout",
     "output_type": "stream",
     "text": [
      "              precision    recall  f1-score   support\n",
      "\n",
      "         0.0       0.91      0.95      0.93      3723\n",
      "         1.0       0.95      0.90      0.93      3777\n",
      "\n",
      "    accuracy                           0.93      7500\n",
      "   macro avg       0.93      0.93      0.93      7500\n",
      "weighted avg       0.93      0.93      0.93      7500\n",
      "\n"
     ]
    }
   ],
   "source": [
    "param = {'max_depth':5, 'eta':0.5, 'verbosity':1, 'objective':'binary:logistic'}\n",
    "raw_model = xgb.train(param, dtrain, num_boost_round=20)\n",
    "pred_train_raw = raw_model.predict(dtrain)\n",
    "for i in range(len(pred_train_raw)):\n",
    "    if pred_train_raw[i] > 0.5:\n",
    "         pred_train_raw[i]=1\n",
    "    else:\n",
    "        pred_train_raw[i]=0               \n",
    "print(classification_report(dtrain.get_label(), pred_train_raw))"
   ]
  },
  {
   "cell_type": "markdown",
   "metadata": {
    "colab_type": "text",
    "id": "Nsa0zl4mBSBu"
   },
   "source": [
    "训练集准确率0.93。"
   ]
  },
  {
   "cell_type": "code",
   "execution_count": 0,
   "metadata": {
    "colab": {
     "base_uri": "https://localhost:8080/",
     "height": 179
    },
    "colab_type": "code",
    "executionInfo": {
     "elapsed": 1112,
     "status": "ok",
     "timestamp": 1576739942598,
     "user": {
      "displayName": "ankang chu",
      "photoUrl": "https://lh3.googleusercontent.com/a-/AAuE7mAuIxhxsRb7j_rd4VVyK4bCBRTa_6h7_80neWOp=s64",
      "userId": "07574466021164400993"
     },
     "user_tz": -480
    },
    "id": "s8G5z_oYBY-e",
    "outputId": "1628c73e-e9f3-4440-afab-21b854a5e5ad"
   },
   "outputs": [
    {
     "name": "stdout",
     "output_type": "stream",
     "text": [
      "              precision    recall  f1-score   support\n",
      "\n",
      "         0.0       0.87      0.92      0.89      1244\n",
      "         1.0       0.92      0.86      0.89      1256\n",
      "\n",
      "    accuracy                           0.89      2500\n",
      "   macro avg       0.89      0.89      0.89      2500\n",
      "weighted avg       0.89      0.89      0.89      2500\n",
      "\n"
     ]
    }
   ],
   "source": [
    "pred_test_raw = raw_model.predict(dtest)\n",
    "for i in range(len(pred_test_raw)):\n",
    "    if pred_test_raw[i] > 0.5:\n",
    "         pred_test_raw[i]=1\n",
    "    else:\n",
    "        pred_test_raw[i]=0\n",
    "print(classification_report(dtest.get_label(), pred_test_raw))   "
   ]
  },
  {
   "cell_type": "markdown",
   "metadata": {
    "colab_type": "text",
    "id": "OPSHd24WBkEO"
   },
   "source": [
    "测试机准确率0.89。"
   ]
  },
  {
   "cell_type": "markdown",
   "metadata": {
    "colab_type": "text",
    "id": "yxJsVnq7B3xd"
   },
   "source": [
    "XGBoost原生风格接口。"
   ]
  },
  {
   "cell_type": "code",
   "execution_count": 0,
   "metadata": {
    "colab": {
     "base_uri": "https://localhost:8080/",
     "height": 737
    },
    "colab_type": "code",
    "executionInfo": {
     "elapsed": 2101,
     "status": "ok",
     "timestamp": 1576740506200,
     "user": {
      "displayName": "ankang chu",
      "photoUrl": "https://lh3.googleusercontent.com/a-/AAuE7mAuIxhxsRb7j_rd4VVyK4bCBRTa_6h7_80neWOp=s64",
      "userId": "07574466021164400993"
     },
     "user_tz": -480
    },
    "id": "xJujYDFwBY3r",
    "outputId": "4a0b78f6-cb2b-420e-e014-58349b2ffa6a"
   },
   "outputs": [
    {
     "name": "stdout",
     "output_type": "stream",
     "text": [
      "[0]\tvalidation_0-error:0.1136\n",
      "Will train until validation_0-error hasn't improved in 10 rounds.\n",
      "[1]\tvalidation_0-error:0.1112\n",
      "[2]\tvalidation_0-error:0.1048\n",
      "[3]\tvalidation_0-error:0.1056\n",
      "[4]\tvalidation_0-error:0.1044\n",
      "[5]\tvalidation_0-error:0.1044\n",
      "[6]\tvalidation_0-error:0.1056\n",
      "[7]\tvalidation_0-error:0.104\n",
      "[8]\tvalidation_0-error:0.1048\n",
      "[9]\tvalidation_0-error:0.1032\n",
      "[10]\tvalidation_0-error:0.1028\n",
      "[11]\tvalidation_0-error:0.1024\n",
      "[12]\tvalidation_0-error:0.1016\n",
      "[13]\tvalidation_0-error:0.102\n",
      "[14]\tvalidation_0-error:0.1032\n",
      "[15]\tvalidation_0-error:0.1024\n",
      "[16]\tvalidation_0-error:0.1028\n",
      "[17]\tvalidation_0-error:0.1016\n",
      "[18]\tvalidation_0-error:0.1012\n",
      "[19]\tvalidation_0-error:0.1016\n",
      "[20]\tvalidation_0-error:0.1028\n",
      "[21]\tvalidation_0-error:0.1024\n",
      "[22]\tvalidation_0-error:0.1024\n",
      "[23]\tvalidation_0-error:0.1024\n",
      "[24]\tvalidation_0-error:0.102\n",
      "[25]\tvalidation_0-error:0.1028\n",
      "[26]\tvalidation_0-error:0.1028\n",
      "[27]\tvalidation_0-error:0.1028\n",
      "[28]\tvalidation_0-error:0.1028\n",
      "Stopping. Best iteration:\n",
      "[18]\tvalidation_0-error:0.1012\n",
      "\n"
     ]
    },
    {
     "data": {
      "text/plain": [
       "XGBClassifier(base_score=0.5, booster='gbtree', colsample_bylevel=1,\n",
       "              colsample_bynode=1, colsample_bytree=1, eta=0.5, gamma=0,\n",
       "              learning_rate=0.1, max_delta_step=0, max_depth=5,\n",
       "              min_child_weight=1, missing=None, n_estimators=100, n_jobs=1,\n",
       "              nthread=None, objective='binary:logistic', random_state=0,\n",
       "              reg_alpha=0, reg_lambda=1, scale_pos_weight=1, seed=None,\n",
       "              silent=None, subsample=1, verbosity=1)"
      ]
     },
     "execution_count": 15,
     "metadata": {
      "tags": []
     },
     "output_type": "execute_result"
    }
   ],
   "source": [
    "sklearn_model_raw = xgb.XGBClassifier(**param)\n",
    "sklearn_model_raw.fit(X_train,\n",
    "           y_train,\n",
    "           early_stopping_rounds=10,\n",
    "           eval_metric=\"error\",\n",
    "           eval_set=[(X_test, y_test)])"
   ]
  },
  {
   "cell_type": "markdown",
   "metadata": {
    "colab_type": "text",
    "id": "LunlElt4EAzq"
   },
   "source": [
    "XGBoost的sklearn风格接口。"
   ]
  },
  {
   "cell_type": "code",
   "execution_count": 0,
   "metadata": {
    "colab": {
     "base_uri": "https://localhost:8080/",
     "height": 467
    },
    "colab_type": "code",
    "executionInfo": {
     "elapsed": 1094,
     "status": "ok",
     "timestamp": 1576740687203,
     "user": {
      "displayName": "ankang chu",
      "photoUrl": "https://lh3.googleusercontent.com/a-/AAuE7mAuIxhxsRb7j_rd4VVyK4bCBRTa_6h7_80neWOp=s64",
      "userId": "07574466021164400993"
     },
     "user_tz": -480
    },
    "id": "pkMptaSlEADg",
    "outputId": "e14ac6e9-b296-42d9-c847-d1853416ee81"
   },
   "outputs": [
    {
     "name": "stdout",
     "output_type": "stream",
     "text": [
      "[0]\tvalidation_0-error:0.1136\n",
      "Will train until validation_0-error hasn't improved in 10 rounds.\n",
      "[1]\tvalidation_0-error:0.106\n",
      "[2]\tvalidation_0-error:0.1048\n",
      "[3]\tvalidation_0-error:0.104\n",
      "[4]\tvalidation_0-error:0.1048\n",
      "[5]\tvalidation_0-error:0.1064\n",
      "[6]\tvalidation_0-error:0.1052\n",
      "[7]\tvalidation_0-error:0.1064\n",
      "[8]\tvalidation_0-error:0.1064\n",
      "[9]\tvalidation_0-error:0.1072\n",
      "[10]\tvalidation_0-error:0.1088\n",
      "[11]\tvalidation_0-error:0.1096\n",
      "[12]\tvalidation_0-error:0.1076\n",
      "[13]\tvalidation_0-error:0.1088\n",
      "Stopping. Best iteration:\n",
      "[3]\tvalidation_0-error:0.104\n",
      "\n"
     ]
    },
    {
     "data": {
      "text/plain": [
       "XGBClassifier(base_score=0.5, booster='gbtree', colsample_bylevel=1,\n",
       "              colsample_bynode=1, colsample_bytree=1, gamma=0,\n",
       "              learning_rate=0.5, max_delta_step=0, max_depth=5,\n",
       "              min_child_weight=1, missing=None, n_estimators=100, n_jobs=1,\n",
       "              nthread=None, objective='binary:logistic', random_state=1,\n",
       "              reg_alpha=0, reg_lambda=1, scale_pos_weight=1, seed=None,\n",
       "              silent=None, subsample=1, verbosity=1)"
      ]
     },
     "execution_count": 16,
     "metadata": {
      "tags": []
     },
     "output_type": "execute_result"
    }
   ],
   "source": [
    "sklearn_model_new = xgb.XGBClassifier(max_depth=5,\n",
    "                    learning_rate=0.5,\n",
    "                    verbosity=1,\n",
    "                    objective='binary:logistic',\n",
    "                    random_state=1)\n",
    "sklearn_model_new.fit(X_train,\n",
    "           y_train,\n",
    "           early_stopping_rounds=10,\n",
    "           eval_metric=\"error\",\n",
    "           eval_set=[(X_test, y_test)])"
   ]
  },
  {
   "cell_type": "markdown",
   "metadata": {
    "colab_type": "text",
    "id": "D-orPWRiEfy-"
   },
   "source": [
    "**使用sklearn的GridSearchCV调参**"
   ]
  },
  {
   "cell_type": "markdown",
   "metadata": {
    "colab_type": "text",
    "id": "pn0qy0GQE2AW"
   },
   "source": [
    "一般固定步长，先调好框架参数n_estimators，再调弱学习器参数max_depth，min_child_weight,gamma等，接着调正则化相关参数subsample，colsample_byXXX, reg_alpha以及reg_lambda,最后固定前面调好的参数，来调步长learning_rate"
   ]
  },
  {
   "cell_type": "code",
   "execution_count": 0,
   "metadata": {
    "colab": {
     "base_uri": "https://localhost:8080/",
     "height": 343
    },
    "colab_type": "code",
    "executionInfo": {
     "elapsed": 6332,
     "status": "ok",
     "timestamp": 1576740861130,
     "user": {
      "displayName": "ankang chu",
      "photoUrl": "https://lh3.googleusercontent.com/a-/AAuE7mAuIxhxsRb7j_rd4VVyK4bCBRTa_6h7_80neWOp=s64",
      "userId": "07574466021164400993"
     },
     "user_tz": -480
    },
    "id": "mnjKA9wNE5iG",
    "outputId": "7f4e251d-c524-4315-f357-f61f338749eb"
   },
   "outputs": [
    {
     "name": "stderr",
     "output_type": "stream",
     "text": [
      "/usr/local/lib/python3.6/dist-packages/sklearn/model_selection/_split.py:1978: FutureWarning: The default value of cv will change from 3 to 5 in version 0.22. Specify it explicitly to silence this warning.\n",
      "  warnings.warn(CV_WARNING, FutureWarning)\n"
     ]
    },
    {
     "data": {
      "text/plain": [
       "GridSearchCV(cv='warn', error_score='raise-deprecating',\n",
       "             estimator=XGBClassifier(base_score=0.5, booster='gbtree',\n",
       "                                     colsample_bylevel=1, colsample_bynode=1,\n",
       "                                     colsample_bytree=1, gamma=0,\n",
       "                                     learning_rate=0.5, max_delta_step=0,\n",
       "                                     max_depth=5, min_child_weight=1,\n",
       "                                     missing=None, n_estimators=100, n_jobs=1,\n",
       "                                     nthread=None, objective='binary:logistic',\n",
       "                                     random_state=1, reg_alpha=0, reg_lambda=1,\n",
       "                                     scale_pos_weight=1, seed=None, silent=None,\n",
       "                                     subsample=1, verbosity=1),\n",
       "             iid='warn', n_jobs=None,\n",
       "             param_grid={'max_depth': [4, 5, 6], 'n_estimators': [5, 10, 20]},\n",
       "             pre_dispatch='2*n_jobs', refit=True, return_train_score=False,\n",
       "             scoring=None, verbose=0)"
      ]
     },
     "execution_count": 18,
     "metadata": {
      "tags": []
     },
     "output_type": "execute_result"
    }
   ],
   "source": [
    "gsCv = GridSearchCV(sklearn_model_new,\n",
    "           {'max_depth':[4,5,6], 'n_estimators':[5,10,20]})\n",
    "gsCv.fit(X_train,y_train)"
   ]
  },
  {
   "cell_type": "code",
   "execution_count": 0,
   "metadata": {
    "colab": {
     "base_uri": "https://localhost:8080/",
     "height": 53
    },
    "colab_type": "code",
    "executionInfo": {
     "elapsed": 1085,
     "status": "ok",
     "timestamp": 1576740894035,
     "user": {
      "displayName": "ankang chu",
      "photoUrl": "https://lh3.googleusercontent.com/a-/AAuE7mAuIxhxsRb7j_rd4VVyK4bCBRTa_6h7_80neWOp=s64",
      "userId": "07574466021164400993"
     },
     "user_tz": -480
    },
    "id": "BspJenLaFIqF",
    "outputId": "21899e47-39e8-4357-af12-2c0204b26231"
   },
   "outputs": [
    {
     "name": "stdout",
     "output_type": "stream",
     "text": [
      "{'max_depth': 5, 'n_estimators': 10}\n",
      "0.8928\n"
     ]
    }
   ],
   "source": [
    "print(gsCv.best_params_)\n",
    "print(gsCv.best_score_)"
   ]
  },
  {
   "cell_type": "code",
   "execution_count": 0,
   "metadata": {
    "colab": {
     "base_uri": "https://localhost:8080/",
     "height": 343
    },
    "colab_type": "code",
    "executionInfo": {
     "elapsed": 2843,
     "status": "ok",
     "timestamp": 1576740969602,
     "user": {
      "displayName": "ankang chu",
      "photoUrl": "https://lh3.googleusercontent.com/a-/AAuE7mAuIxhxsRb7j_rd4VVyK4bCBRTa_6h7_80neWOp=s64",
      "userId": "07574466021164400993"
     },
     "user_tz": -480
    },
    "id": "QF2lf1PuFL9l",
    "outputId": "42769938-9b55-4973-f782-897a61def131"
   },
   "outputs": [
    {
     "name": "stderr",
     "output_type": "stream",
     "text": [
      "/usr/local/lib/python3.6/dist-packages/sklearn/model_selection/_split.py:1978: FutureWarning: The default value of cv will change from 3 to 5 in version 0.22. Specify it explicitly to silence this warning.\n",
      "  warnings.warn(CV_WARNING, FutureWarning)\n"
     ]
    },
    {
     "data": {
      "text/plain": [
       "GridSearchCV(cv='warn', error_score='raise-deprecating',\n",
       "             estimator=XGBClassifier(base_score=0.5, booster='gbtree',\n",
       "                                     colsample_bylevel=1, colsample_bynode=1,\n",
       "                                     colsample_bytree=1, gamma=0,\n",
       "                                     learning_rate=0.1, max_delta_step=0,\n",
       "                                     max_depth=5, min_child_weight=1,\n",
       "                                     missing=None, n_estimators=10, n_jobs=1,\n",
       "                                     nthread=None, objective='binary:logistic',\n",
       "                                     random_state=1, reg_alpha=0, reg_lambda=1,\n",
       "                                     scale_pos_weight=1, seed=None, silent=None,\n",
       "                                     subsample=1, verbosity=1),\n",
       "             iid='warn', n_jobs=None,\n",
       "             param_grid={'learning_rate ': [0.3, 0.5, 0.7]},\n",
       "             pre_dispatch='2*n_jobs', refit=True, return_train_score=False,\n",
       "             scoring=None, verbose=0)"
      ]
     },
     "execution_count": 20,
     "metadata": {
      "tags": []
     },
     "output_type": "execute_result"
    }
   ],
   "source": [
    "sklearn_model_new2 = xgb.XGBClassifier(max_depth=5,\n",
    "                     n_estimators=10,\n",
    "                     verbosity=1,objective='binary:logistic',\n",
    "                     random_state=1)\n",
    "gsCv2 = GridSearchCV(sklearn_model_new2, \n",
    "            {'learning_rate ':[0.3,0.5,0.7]})\n",
    "gsCv2.fit(X_train,y_train)"
   ]
  },
  {
   "cell_type": "code",
   "execution_count": 0,
   "metadata": {
    "colab": {
     "base_uri": "https://localhost:8080/",
     "height": 53
    },
    "colab_type": "code",
    "executionInfo": {
     "elapsed": 640,
     "status": "ok",
     "timestamp": 1576740985118,
     "user": {
      "displayName": "ankang chu",
      "photoUrl": "https://lh3.googleusercontent.com/a-/AAuE7mAuIxhxsRb7j_rd4VVyK4bCBRTa_6h7_80neWOp=s64",
      "userId": "07574466021164400993"
     },
     "user_tz": -480
    },
    "id": "j5bRf5s_Fezu",
    "outputId": "e8e14d2e-f027-4865-a252-690e9ee7dd1b"
   },
   "outputs": [
    {
     "name": "stdout",
     "output_type": "stream",
     "text": [
      "{'learning_rate ': 0.3}\n",
      "0.8918666666666667\n"
     ]
    }
   ],
   "source": [
    "print(gsCv2.best_params_)\n",
    "print(gsCv2.best_score_)"
   ]
  },
  {
   "cell_type": "code",
   "execution_count": 0,
   "metadata": {
    "colab": {
     "base_uri": "https://localhost:8080/",
     "height": 341
    },
    "colab_type": "code",
    "executionInfo": {
     "elapsed": 1105,
     "status": "ok",
     "timestamp": 1576741055368,
     "user": {
      "displayName": "ankang chu",
      "photoUrl": "https://lh3.googleusercontent.com/a-/AAuE7mAuIxhxsRb7j_rd4VVyK4bCBRTa_6h7_80neWOp=s64",
      "userId": "07574466021164400993"
     },
     "user_tz": -480
    },
    "id": "y66rrm2OFpg9",
    "outputId": "e352a61e-905f-45dc-de76-b18b0e88f001"
   },
   "outputs": [
    {
     "name": "stdout",
     "output_type": "stream",
     "text": [
      "[0]\tvalidation_0-error:0.1172\n",
      "Will train until validation_0-error hasn't improved in 10 rounds.\n",
      "[1]\tvalidation_0-error:0.1112\n",
      "[2]\tvalidation_0-error:0.11\n",
      "[3]\tvalidation_0-error:0.1076\n",
      "[4]\tvalidation_0-error:0.1032\n",
      "[5]\tvalidation_0-error:0.1032\n",
      "[6]\tvalidation_0-error:0.1024\n",
      "[7]\tvalidation_0-error:0.1024\n",
      "[8]\tvalidation_0-error:0.1028\n",
      "[9]\tvalidation_0-error:0.1032\n"
     ]
    },
    {
     "data": {
      "text/plain": [
       "XGBClassifier(base_score=0.5, booster='gbtree', colsample_bylevel=1,\n",
       "              colsample_bynode=1, colsample_bytree=1, gamma=0,\n",
       "              learning_rate=0.3, max_delta_step=0, max_depth=4,\n",
       "              min_child_weight=1, missing=None, n_estimators=10, n_jobs=1,\n",
       "              nthread=None, objective='binary:logistic', random_state=0,\n",
       "              reg_alpha=0, reg_lambda=1, scale_pos_weight=1, seed=None,\n",
       "              silent=None, subsample=1, verbosity=1)"
      ]
     },
     "execution_count": 22,
     "metadata": {
      "tags": []
     },
     "output_type": "execute_result"
    }
   ],
   "source": [
    "sklearn_model_new2 = xgb.XGBClassifier(max_depth=4,\n",
    "                     learning_rate=0.3,\n",
    "                     verbosity=1,\n",
    "                     objective='binary:logistic',\n",
    "                     n_estimators=10)\n",
    "sklearn_model_new2.fit(X_train, y_train, early_stopping_rounds=10, eval_metric=\"error\",\n",
    "        eval_set=[(X_test, y_test)])"
   ]
  },
  {
   "cell_type": "code",
   "execution_count": 0,
   "metadata": {
    "colab": {
     "base_uri": "https://localhost:8080/",
     "height": 179
    },
    "colab_type": "code",
    "executionInfo": {
     "elapsed": 1704,
     "status": "ok",
     "timestamp": 1576741102558,
     "user": {
      "displayName": "ankang chu",
      "photoUrl": "https://lh3.googleusercontent.com/a-/AAuE7mAuIxhxsRb7j_rd4VVyK4bCBRTa_6h7_80neWOp=s64",
      "userId": "07574466021164400993"
     },
     "user_tz": -480
    },
    "id": "VMnMR5wlF3WO",
    "outputId": "0ae86a8c-50ee-4c3a-c6db-2bff12e7068d"
   },
   "outputs": [
    {
     "name": "stdout",
     "output_type": "stream",
     "text": [
      "              precision    recall  f1-score   support\n",
      "\n",
      "         0.0       0.87      0.94      0.90      1244\n",
      "         1.0       0.93      0.86      0.89      1256\n",
      "\n",
      "    accuracy                           0.90      2500\n",
      "   macro avg       0.90      0.90      0.90      2500\n",
      "weighted avg       0.90      0.90      0.90      2500\n",
      "\n"
     ]
    }
   ],
   "source": [
    "pred_test_new = sklearn_model_new2.predict(X_test)\n",
    "print(classification_report(dtest.get_label(), pred_test_new))"
   ]
  },
  {
   "cell_type": "markdown",
   "metadata": {
    "colab_type": "text",
    "id": "NP_5WfAFF_XN"
   },
   "source": [
    "可见准确率还是增加了的。"
   ]
  }
 ],
 "metadata": {
  "colab": {
   "collapsed_sections": [],
   "name": "XGBoost_test.ipynb",
   "provenance": []
  },
  "kernelspec": {
   "display_name": "Python 3",
   "language": "python",
   "name": "python3"
  },
  "language_info": {
   "codemirror_mode": {
    "name": "ipython",
    "version": 3
   },
   "file_extension": ".py",
   "mimetype": "text/x-python",
   "name": "python",
   "nbconvert_exporter": "python",
   "pygments_lexer": "ipython3",
   "version": "3.8.5"
  }
 },
 "nbformat": 4,
 "nbformat_minor": 1
}
