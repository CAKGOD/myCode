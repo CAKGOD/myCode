{
 "cells": [
  {
   "cell_type": "code",
   "execution_count": 3,
   "metadata": {},
   "outputs": [],
   "source": [
    "from bs4 import BeautifulSoup\n",
    "import requests\n",
    "import re"
   ]
  },
  {
   "cell_type": "code",
   "execution_count": 4,
   "metadata": {},
   "outputs": [],
   "source": [
    "author_dict = {'basic': {}, 'activity': {'summary': '', 'spec': {}}}"
   ]
  },
  {
   "cell_type": "code",
   "execution_count": 36,
   "metadata": {},
   "outputs": [],
   "source": [
    "def requests_with_header(url):\n",
    "    headers = {\n",
    "        'user-Agent': 'Mozilla/5.0 (X11; Linux x86_64) AppleWebKit/537.36 (KHTML, like Gecko) Chrome/88.0.4324.182 Safari/537.36'\n",
    "    }\n",
    "    response = requests.get(url, headers=headers)    \n",
    "    if response.status_code != 200:\n",
    "        print(f'Response from {url} error.', response.status_code)\n",
    "        return\n",
    "    return response\n",
    "\n",
    "\n",
    "def extract_author_basic_from_github(author_login):\n",
    "    basic_dict = {'ava': '', 'name': '', 'id': '', 'slogan': '', 'followers': '', 'following': '', 'star': '', 'worksFor': '', 'homeLocation': '', 'email': '', 'url': '', 'twitter': '', 'highlight': [], 'Organizations': [], 'Sponsoring': [], 'pin_popular': []}\n",
    "    basic_url = 'https://github.com/' + author_login\n",
    "    res = requests_with_header(basic_url)\n",
    "    soup = BeautifulSoup(res.text, 'html.parser')\n",
    "    # ava\n",
    "    ava = soup.find('img', 'avatar avatar-user width-full border bg-white')\n",
    "    basic_dict['ava'] = ava['src']\n",
    "    # name\n",
    "    name = soup.find('span', 'p-name vcard-fullname d-block overflow-hidden')\n",
    "    basic_dict['name'] = name.get_text().strip()\n",
    "    # id\n",
    "    user_id = soup.find('span', 'p-nickname vcard-username d-block')\n",
    "    basic_dict['id'] = user_id.get_text().strip()\n",
    "    # slogan\n",
    "    slogan = soup.find('div', 'p-note user-profile-bio mb-3 js-user-profile-bio f4')\n",
    "    basic_dict['slogan'] = slogan.get_text().strip()\n",
    "    # followers following star\n",
    "    follow = soup.find('div', 'flex-order-1 flex-md-order-none mt-2 mt-md-0')\n",
    "    temp = [i for i in re.split('[following·followers \\n]', follow.get_text().strip()) if i != '']\n",
    "    basic_dict['followers'] = temp[0]\n",
    "    basic_dict['following'] = temp[1]\n",
    "    basic_dict['star'] = temp[2]\n",
    "    # some\n",
    "    card = soup.find('ul', 'vcard-details')\n",
    "    for i in card.find_all('li'):\n",
    "        basic_dict[i['itemprop']] = i.get_text().replace('\\n', '').strip()\n",
    "    # highlight\n",
    "    highlight = soup.find('div', 'border-top color-border-secondary pt-3 mt-3 d-none d-md-block')\n",
    "    for i in highlight.find_all('li', 'mt-2'):\n",
    "        basic_dict['highlight'].append(i.get_text().strip())\n",
    "    # other\n",
    "    other = soup.find_all('div', 'border-top color-border-secondary pt-3 mt-3 clearfix hide-sm hide-md')\n",
    "    for i in other:\n",
    "        temp_name = i.get_text().replace('\\n', ' ').strip()\n",
    "        for j in i.find_all('img', 'avatar'):\n",
    "            basic_dict[temp_name].append(j['alt'])\n",
    "    # pin and popular\n",
    "    #pin =  soup.find('ol', 'd-flex flex-wrap list-style-none gutter-condensed mb-4 js-pinned-items-reorder-list')\n",
    "    pin_popular = soup.find('div', 'js-pinned-items-reorder-container')\n",
    "    for i in pin_popular.find_all('li'):\n",
    "        pin_dict = {'repo': '', 'desc': '', 'language': '', 'star': '', 'fork': ''}\n",
    "        pin_dict['repo'] = i.find('div', 'd-flex width-full flex-items-center position-relative').get_text().replace('\\n', '').strip()\n",
    "        pin_dict['desc'] = i.find('p', 'pinned-item-desc text-gray text-small d-block mt-2 mb-3').get_text().replace('\\n', '').strip()\n",
    "        #temp_content = [j.get_text().replace('\\n', '').strip() for j in i.find('p', 'mb-0 f6 text-gray').children if j != '\\n']\n",
    "        #pin_dict['language'] = temp_content[0]\n",
    "        #pin_dict['star'] = temp_content[1]\n",
    "        #pin_dict['fork'] = temp_content[2]\n",
    "        basic_dict['pin_popular'].append(pin_dict)\n",
    "    #print('*************************************************************')\n",
    "    return basic_dict\n",
    "    \n",
    "\n",
    "def extract_author_activity_from_github(author_login, begin_year, begin_month, end_year, end_month):\n",
    "    activity_dict = {}\n",
    "    for a in range(begin_year, end_year + 1):\n",
    "        if a == begin_year:\n",
    "            start, end = begin_month, 13\n",
    "        elif a == end_year:\n",
    "            start, end = 1, end_month + 1\n",
    "        else:\n",
    "            start, end = 1, 13\n",
    "        for b in range(start, end):\n",
    "            if b < 10:\n",
    "                activity_url = 'https://github.com/' + author_login + '?tab=overview&from=' + str(a) + '-0' + str(b) + '-01&to=' + str(a) + '-0' + str(b) + '-31'\n",
    "            else:\n",
    "                activity_url = 'https://github.com/' + author_login + '?tab=overview&from=' + str(a) + '-' + str(b) + '-01&to=' + str(a) + '-' + str(b) + '-31'\n",
    "                \n",
    "            res = requests_with_header(activity_url)\n",
    "            soup = BeautifulSoup(res.text, 'html.parser')\n",
    "            \n",
    "            \n",
    "            activity_time = times = str(a) + '-' + str(b)\n",
    "            month_activity_dict = {'summary': [], 'spec': {}}\n",
    "            \n",
    "            # contributions\n",
    "            for i in soup.find_all('div', 'TimelineItem'):\n",
    "                j = BeautifulSoup(str(i))\n",
    "                # summary\n",
    "                summary = j.find('div', 'TimelineItem-body').find('span', 'color-text-primary')\n",
    "                if summary == None:\n",
    "                    #print('there is no activity of this type')\n",
    "                    #print('*******************************')\n",
    "                    continue\n",
    "                month_activity_dict['summary'].append(' '.join([not_null for not_null in summary.get_text().strip().replace('\\n', ' ').split(' ') if not_null != '']))\n",
    "\n",
    "                # spec\n",
    "                spec_activity = []\n",
    "                spec = j.find('div', 'TimelineItem-body').find_all('li', 'ml-0 py-1 d-flex')\n",
    "                for k in spec:\n",
    "                    spec_activity.append(' '.join([not_null for not_null in k.get_text().strip().replace('\\n', ' ').split(' ') if not_null != '']))\n",
    "\n",
    "                spec = j.find('div', 'TimelineItem-body').find_all('li', 'd-flex py-1')\n",
    "                for k in spec:\n",
    "                    spec_activity.append(' '.join([not_null for not_null in k.get_text().strip().replace('\\n', ' ').split(' ') if not_null != '']))\n",
    "\n",
    "                spec = j.find('div', 'TimelineItem-body').find_all('details', 'Details-element details-reset my-2')\n",
    "                for k in spec:\n",
    "                    spec_activity.append(' '.join([not_null for not_null in k.get_text().strip().replace('\\n', ' ').split(' ') if not_null != '']))\n",
    "\n",
    "                spec = j.find('div', 'TimelineItem-body').find_all('details', 'Details-element details-reset my-1')\n",
    "                for k in spec:\n",
    "                    spec_activity.append(' '.join([not_null for not_null in k.get_text().strip().replace('\\n', ' ').split(' ') if not_null != '']))\n",
    "\n",
    "                activity_name = j.find('div', 'TimelineItem-badge').find('svg')['class'][1].split('octicon-')[1]\n",
    "                if activity_name not in month_activity_dict['spec'].keys():\n",
    "                    month_activity_dict['spec'][activity_name] = spec_activity\n",
    "                #print('*******************************')\n",
    "            if activity_time not in activity_dict.keys():\n",
    "                activity_dict[activity_time] = month_activity_dict\n",
    "    return activity_dict\n",
    "            "
   ]
  },
  {
   "cell_type": "code",
   "execution_count": 41,
   "metadata": {},
   "outputs": [],
   "source": [
    "author_dict = {'basic': extract_author_basic_from_github('CAKGOD'), 'activity': extract_author_activity_from_github('CAKGOD', 2020, 1, 2021, 2)}"
   ]
  },
  {
   "cell_type": "code",
   "execution_count": 42,
   "metadata": {},
   "outputs": [
    {
     "name": "stdout",
     "output_type": "stream",
     "text": [
      "{'basic': {'ava': 'https://avatars.githubusercontent.com/u/32932106?s=460&u=fbae9f292158df98f99616be2cb5509caa36e222&v=4', 'name': 'CAKGOD', 'id': 'CAKGOD', 'slogan': '', 'followers': '2', 'following': '26', 'star': '67', 'worksFor': 'HW', 'homeLocation': 'Beijing, China', 'email': 'Sign in to view email', 'url': 'https://cakgod.github.io/', 'twitter': '@None', 'highlight': ['Developer Program Member'], 'Organizations': [], 'Sponsoring': [], 'pin_popular': [{'repo': 'rust_learning', 'desc': 'A great rust learning repository belonging to Open Source AI.', 'language': '', 'star': '', 'fork': ''}, {'repo': 'lio_sam_ros2', 'desc': 'A ros2 version of LIO-SAM', 'language': '', 'star': '', 'fork': ''}, {'repo': 'slam_test', 'desc': '', 'language': '', 'star': '', 'fork': ''}, {'repo': 'docs', 'desc': 'Documents about optimizing techniques and methods', 'language': '', 'star': '', 'fork': ''}, {'repo': 'CAKGOD.github.io', 'desc': '', 'language': '', 'star': '', 'fork': ''}, {'repo': 'myCode', 'desc': 'There are some codes including some useful tools for me.', 'language': '', 'star': '', 'fork': ''}]}, 'activity': {'2020-1': {'summary': [], 'spec': {}}, '2020-2': {'summary': [], 'spec': {}}, '2020-3': {'summary': [], 'spec': {}}, '2020-4': {'summary': [], 'spec': {}}, '2020-5': {'summary': [], 'spec': {}}, '2020-6': {'summary': [], 'spec': {}}, '2020-7': {'summary': [], 'spec': {}}, '2020-8': {'summary': ['Opened 2 other issues in 1 repository'], 'spec': {'issue-opened': ['koide3/hdl_graph_slam 2 closed issues about system resource utilization. Aug 11 ERROR: cannot launch node of type [msf_updates/pose_sensor]: msf_updates Aug 6']}}, '2020-9': {'summary': ['Created 11 commits in 2 repositories', 'Created 1 other repository', 'Opened 1 issue in 1 repository'], 'spec': {'repo-push': ['CAKGOD/rust_learning 9 commits', 'CAKGOD/slam_test 2 commits'], 'repo': ['CAKGOD/rust_learning Rust • Built by Sep 24'], 'issue-opened': ['TixiaoShan/LIO-SAM 1 closed About the time sync Sep 27']}}, '2020-10': {'summary': ['Created 6 commits in 1 repository'], 'spec': {'repo-push': ['CAKGOD/rust_learning 6 commits']}}, '2020-11': {'summary': ['Created 19 commits in 2 repositories', 'Created 1 repository', 'Opened 1 other issue in 1 repository'], 'spec': {'repo-push': ['CAKGOD/lio_sam_ros2 16 commits', 'CAKGOD/rust_learning 3 commits'], 'repo': ['CAKGOD/lio_sam_ros2 C++ Nov 17'], 'issue-opened': ['TixiaoShan/LIO-SAM 1 closed ros2 version Nov 25']}}, '2020-12': {'summary': ['Created 18 commits in 3 repositories', 'Created 1 repository'], 'spec': {'repo-push': ['CAKGOD/slam_test 11 commits', 'CAKGOD/lio_sam_ros2 6 commits', 'CAKGOD/rust_learning 1 commit'], 'repo': ['CAKGOD/docs Go Dec 23']}}, '2021-1': {'summary': ['Created 19 commits in 1 repository', 'Created 1 repository', 'Opened 1 issue in 1 repository'], 'spec': {'repo-push': ['CAKGOD/CAKGOD.github.io 19 commits'], 'repo': ['CAKGOD/CAKGOD.github.io HTML Jan 6'], 'issue-opened': ['benjycui/open-source-hero 1 open 原理请教 Jan 11']}}, '2021-2': {'summary': ['Created 18 commits in 3 repositories', 'Created 1 repository'], 'spec': {'repo-push': ['CAKGOD/CAKGOD.github.io 9 commits', 'CAKGOD/myCode 7 commits', 'CAKGOD/rust_learning 2 commits'], 'repo': ['CAKGOD/myCode Jupyter Notebook Feb 2']}}}}\n"
     ]
    }
   ],
   "source": [
    "print(author_dict)"
   ]
  },
  {
   "cell_type": "code",
   "execution_count": null,
   "metadata": {},
   "outputs": [],
   "source": []
  }
 ],
 "metadata": {
  "kernelspec": {
   "display_name": "Python 3",
   "language": "python",
   "name": "python3"
  },
  "language_info": {
   "codemirror_mode": {
    "name": "ipython",
    "version": 3
   },
   "file_extension": ".py",
   "mimetype": "text/x-python",
   "name": "python",
   "nbconvert_exporter": "python",
   "pygments_lexer": "ipython3",
   "version": "3.8.5"
  }
 },
 "nbformat": 4,
 "nbformat_minor": 4
}
