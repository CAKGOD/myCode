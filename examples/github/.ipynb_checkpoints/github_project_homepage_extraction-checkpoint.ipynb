{
 "cells": [
  {
   "cell_type": "code",
   "execution_count": 22,
   "metadata": {},
   "outputs": [],
   "source": [
    "from bs4 import BeautifulSoup\n",
    "import requests\n",
    "import re\n",
    "import json\n",
    "import os"
   ]
  },
  {
   "cell_type": "code",
   "execution_count": 55,
   "metadata": {},
   "outputs": [],
   "source": [
    "project_dict = {'summary': {'About': '', 'Releases': '', 'Contributors': '', 'Languages': ''}, 'contributors': {}, 'file_commit': {}}"
   ]
  },
  {
   "cell_type": "code",
   "execution_count": 60,
   "metadata": {},
   "outputs": [],
   "source": [
    "def requests_with_header(url):\n",
    "    headers = {\n",
    "        'user-Agent': 'Mozilla/5.0 (X11; Linux x86_64) AppleWebKit/537.36 (KHTML, like Gecko) Chrome/88.0.4324.182 Safari/537.36'\n",
    "    }\n",
    "    response = requests.get(url, headers=headers)    \n",
    "    if response.status_code != 200:\n",
    "        print(f'Response from {url} error.', response.status_code)\n",
    "        return\n",
    "    return response\n",
    "\n",
    "\n",
    "def extract_project_summary(project_url, project_dict):\n",
    "    # summary = BeautifulSoup(requests_with_header('https://github.com/' + project_login).text, 'html.parser')\n",
    "    summary = BeautifulSoup(requests_with_header(project_url).text, 'html.parser')\n",
    "    some = soup.find('div', 'BorderGrid BorderGrid--spacious')\n",
    "    for i in some.find_all('div', 'BorderGrid-row'):\n",
    "        if i.find('h2', 'mb-3') == None:\n",
    "            continue\n",
    "        valued_content = [j for j in i.get_text().replace('\\n', ' ').strip().split(' ') if j != '']\n",
    "        project_dict['summary'][valued_content[0]] = ' '.join(valued_content[1:])\n",
    "    return project_dict\n",
    "\n",
    "\n",
    "def extract_issues_info(project_url, project_dict):\n",
    "    # https://api.github.com/repos/rust-lang/rust/issues?access_token=e2ad1643eb28ae87e9947f1a65db1628216e4bed&page=500&per_page=10&state=all\n",
    "    pass\n",
    "\n",
    "\n",
    "def extract_prs_info(project_url, project_dict):\n",
    "    # https://api.github.com/repos/rust-lang/rust/pulls?access_token=e2ad1643eb28ae87e9947f1a65db1628216e4bed&page=10&per_page=10&state=all\n",
    "    pass\n",
    "\n",
    "\n",
    "def extract_commit_spec_info(path, project_dict):\n",
    "    file_commit_dict = {}\n",
    "    contributor_dict = {}\n",
    "    os.chdir(path)\n",
    "    if not os.path.exists('commit_file.txt'):\n",
    "        os.system('git --no-pager log --stat >> commit_file.txt')\n",
    "    with open('./commit_file.txt') as f:\n",
    "        data = f.readlines()\n",
    "    for i in data:\n",
    "        if i.strip() == '' or i[0:2] == '  ' or i.strip().split(' ')[0] in ['commit', 'Merge:', 'Date:']:\n",
    "            continue\n",
    "        if i.strip().split(' ')[0] == 'Author:':\n",
    "            author_name = i.strip().split('<')[0].split(':')[1].strip()\n",
    "            author_email = i.strip().split('<')[1][0:-1]\n",
    "            name_email = author_name + ' with email: ' + author_email\n",
    "            if name_email not in contributor_dict.keys():\n",
    "                contributor_dict[name_email] = 0\n",
    "        if i[0] == ' ' and '|' in i:\n",
    "            useful_thing = i.strip().split(' ')\n",
    "            add_num = useful_thing[-1].count('+')\n",
    "            contributor_dict[name_email] += add_num\n",
    "            file_name_list = useful_thing[0].split('/')\n",
    "            for j in range(len(file_name_list)-1):\n",
    "                file_name_list[j] += '/'\n",
    "            file_name = ''\n",
    "            for j in file_name_list:\n",
    "                file_name += j\n",
    "                if file_name not in file_commit_dict.keys():\n",
    "                    file_commit_dict[file_name] = {}\n",
    "                if author_name not in file_commit_dict[file_name].keys():\n",
    "                    file_commit_dict[file_name][author_name] = add_num\n",
    "                file_commit_dict[file_name][author_name] += add_num\n",
    "    project_dict['contributors'] = contributor_dict\n",
    "    project_dict['file_commit'] = file_commit_dict\n",
    "    return project_dict"
   ]
  },
  {
   "cell_type": "code",
   "execution_count": 24,
   "metadata": {},
   "outputs": [],
   "source": [
    "with open('/home/cakgod/myfile/code/data/github/baby.txt') as f:\n",
    "    data = [j for i in f.readlines() for j in i.strip().split('\\t') if 'https://github.com/' in j and j.count('/') == 4 and j[-1] != '/']\n",
    "project_url_dict = {}\n",
    "for i in data:\n",
    "    project_name = i.split('/')[-1]\n",
    "    if project_name not in project_url_dict.keys():\n",
    "        project_url_dict[project_name] = i.split(' ')[-1]"
   ]
  },
  {
   "cell_type": "code",
   "execution_count": 16,
   "metadata": {},
   "outputs": [
    {
     "ename": "NameError",
     "evalue": "name 'extract_project_summary' is not defined",
     "output_type": "error",
     "traceback": [
      "\u001b[0;31m---------------------------------------------------------------------------\u001b[0m",
      "\u001b[0;31mNameError\u001b[0m                                 Traceback (most recent call last)",
      "\u001b[0;32m<ipython-input-16-69f55aebc75c>\u001b[0m in \u001b[0;36m<module>\u001b[0;34m\u001b[0m\n\u001b[0;32m----> 1\u001b[0;31m \u001b[0mproject_dict\u001b[0m \u001b[0;34m=\u001b[0m \u001b[0mextract_project_summary\u001b[0m\u001b[0;34m(\u001b[0m\u001b[0;34m'rust-lang/rust-playpen'\u001b[0m\u001b[0;34m,\u001b[0m \u001b[0mproject_dict\u001b[0m\u001b[0;34m)\u001b[0m\u001b[0;34m\u001b[0m\u001b[0;34m\u001b[0m\u001b[0m\n\u001b[0m",
      "\u001b[0;31mNameError\u001b[0m: name 'extract_project_summary' is not defined"
     ]
    }
   ],
   "source": [
    "for k, v in project_url_dict.items:\n",
    "    project_dict = extract_project_summary(v, project_dict)\n",
    "    os.system('git clone ' + v)\n",
    "    project_dict = extract_commit_spec_info(k, project_dict)"
   ]
  },
  {
   "cell_type": "code",
   "execution_count": 62,
   "metadata": {},
   "outputs": [],
   "source": [
    "project_dict = extract_commit_spec_info('/home/cakgod/myfile/myCode/other/rust-playpen', project_dict)"
   ]
  },
  {
   "cell_type": "code",
   "execution_count": 63,
   "metadata": {
    "scrolled": false
   },
   "outputs": [
    {
     "name": "stdout",
     "output_type": "stream",
     "text": [
      "{'summary': {'About': 'Empowering everyone to build reliable and efficient software. www.rust-lang.org Topics language rust compiler Resources Readme License View license', 'Releases': '93 Rust 1.50.0 Latest Feb 11, 2021 + 92 releases', 'Contributors': '3,183 + 3,172 contributors', 'Languages': 'Rust 94.4% HTML 3.4% Python 0.5% JavaScript 0.4% Makefile 0.3% C++ 0.3% Other 0.7%'}, 'contributors': {'Alex Crichton with email: alex@alexcrichton.com': 413, 'Sebastian Köln with email: sebk@rynx.org': 169, 'panicbit with email: panicbit.dev@gmail.com': 3, 'Ralf Jung with email: post@ralfj.de': 7, 'Matt Brubeck with email: mbrubeck@limpet.net': 8, 'NODA, Kai with email: nodakai@gmail.com': 23, 'Christopher with email: github@u.breeden.cc': 1, 'Tim Neumann with email: mail@timnn.me': 303, 'Christopher Breeden with email: github@u.breeden.cc': 9, 'Popog with email: N/A': 5, 'Scott Olson with email: scott@solson.me': 4, 'Jonas Schievink with email: jonasschievink@gmail.com': 4, 'Manish Goregaokar with email: manishsmail@gmail.com': 4, 'Curtis McEnroe with email: programble@gmail.com': 25, 'Jonas Schievink with email: jonas@schievink.net': 563, 'Nicolette Verlinden with email: nicole@nicole.moe': 1, 'Johann Hofmann with email: mail@johann-hofmann.com': 2, 'Daniel Callander with email: knifacat@gmail.com': 5, 'Georg Brandl with email: georg@python.org': 111, 'Emanuel Czirai with email: res.pe.cing+commits@gmail.com': 304, 'Matthew Astley with email: mca@sanger.ac.uk': 136, 'Aneesh Agrawal with email: aneeshusa@gmail.com': 10, 'E. Dunham with email: edunham@mozilla.com': 66, 'Brian Anderson with email: andersrb@gmail.com': 0, 'Pascal Hertleif with email: killercup@gmail.com': 8, 'Skyler with email: skyler.lipthay@gmail.com': 2, 'Ralph Giles with email: giles@mozilla.com': 3, 'Till Hoeppner with email: till@hoeppner.ws': 241, 'Leif Arne Storset with email: leifarne@storset.net': 1, 'Mika Attila with email: radiantstatue@gmail.com': 2, 'edunham with email: edunham@mozilla.com': 61, 'Chris Morgan with email: me@chrismorgan.info': 510, 'Richo Healey with email: richo@psych0tik.net': 26, 'Nick Howell with email: howellnick@gmail.com': 1, 'Brian Anderson with email: banderson@mozilla.com': 21, 'Corey Farwell with email: coreyf@rwell.org': 61, 'Will Hipschman with email: whipsch@gmail.com': 138, 'Huon Wilson with email: dbau.pp+github@gmail.com': 42, 'Diggory Blake with email: diggsey@googlemail.com': 2, 'Jared Miller with email: jtmiller@gmail.com': 1, 'Christopher Welborn with email: cj@welbornprod.com': 95, 'Scott Olson with email: scott@scott-olson.org': 0, 'Sébastien Marie with email: semarie@users.noreply.github.com': 57, 'Niko Matsakis with email: niko@alum.mit.edu': 0, 'Edward Wang with email: edward.yu.wang@gmail.com': 0, 'Daniel Micay with email: danielmicay@gmail.com': 1048, 'Johannes Löthberg with email: johannes@kyriasis.com': 1, 'Filip Szczepański with email: jazz2rulez@gmail.com': 7, 'Harutyun Amirjanyan with email: amirjanyan@gmail.com': 6, 'Zachary Dremann with email: dremann@gmail.com': 1, 'Matthew McPherrin with email: github@mcpherrin.ca': 1, 'Fabio Bonelli with email: fbonelli@gmail.com': 25, 'Renato Zannon with email: renato@rrsz.com.br': 44, 'Corey Richardson with email: corey@octayn.net': 1}, 'file_commit': {'src/': {'Sebastian Köln': 58, 'NODA, Kai': 3, 'Alex Crichton': 191, 'Christopher': 2, 'Christopher Breeden': 18, 'Popog': 10, 'Tim Neumann': 175, 'Jonas Schievink': 301, 'Manish Goregaokar': 4, 'Curtis McEnroe': 26, 'Nicolette Verlinden': 2}, 'src/bin/': {'Sebastian Köln': 58, 'NODA, Kai': 3, 'Christopher': 2, 'Christopher Breeden': 18, 'Popog': 10, 'Tim Neumann': 95, 'Jonas Schievink': 174, 'Manish Goregaokar': 4, 'Curtis McEnroe': 26, 'Nicolette Verlinden': 2, 'Alex Crichton': 62}, 'src/bin/playbot.rs': {'Sebastian Köln': 57, 'NODA, Kai': 2, 'Christopher': 2, 'Christopher Breeden': 18, 'Tim Neumann': 48, 'Jonas Schievink': 133, 'Curtis McEnroe': 26, 'Nicolette Verlinden': 2, 'Alex Crichton': 31}, 'Cargo.lock': {'Sebastian Köln': 135, 'NODA, Kai': 38, 'Tim Neumann': 154, 'Alex Crichton': 6, 'Jonas Schievink': 138}, 'Cargo.toml': {'Sebastian Köln': 5, 'NODA, Kai': 4, 'Alex Crichton': 2, 'Jonas Schievink': 16}, '.travis.yml': {'panicbit': 3, 'Tim Neumann': 4, 'Alex Crichton': 18, 'Jonas Schievink': 8, 'Corey Farwell': 3}, 'src/bin/playpen.rs': {'Sebastian Köln': 2, 'NODA, Kai': 2, 'Popog': 10, 'Tim Neumann': 70, 'Manish Goregaokar': 4, 'Alex Crichton': 55, 'Jonas Schievink': 45}, 'README.md': {'Ralf Jung': 14, 'Alex Crichton': 52, 'Jonas Schievink': 44, 'E. Dunham': 94, 'Ralph Giles': 4, 'Till Hoeppner': 127, 'Mika Attila': 3, 'edunham': 122, 'Daniel Micay': 5}, 'static/': {'Matt Brubeck': 9, 'Tim Neumann': 49, 'Scott Olson': 8, 'Alex Crichton': 8, 'Johann Hofmann': 4, 'Daniel Callander': 7, 'Georg Brandl': 47, 'Emanuel Czirai': 94, 'Matthew Astley': 157, 'Aneesh Agrawal': 18, 'Jonas Schievink': 51, 'Pascal Hertleif': 16, 'Skyler': 4, 'Leif Arne Storset': 2, 'Chris Morgan': 461, 'Richo Healey': 33, 'Nick Howell': 2, 'Brian Anderson': 18, 'Corey Farwell': 87, 'Will Hipschman': 140, 'Diggory Blake': 4, 'Huon Wilson': 8, 'Jared Miller': 2, 'Christopher Welborn': 97, 'Sébastien Marie': 84, 'Manish Goregaokar': 4, 'Daniel Micay': 394, 'Harutyun Amirjanyan': 12, 'Fabio Bonelli': 29, 'Renato Zannon': 45}, 'static/web.js': {'Matt Brubeck': 9, 'Tim Neumann': 40, 'Daniel Callander': 7, 'Georg Brandl': 47, 'Emanuel Czirai': 82, 'Matthew Astley': 142, 'Jonas Schievink': 12, 'Skyler': 4, 'Chris Morgan': 240, 'Richo Healey': 28, 'Nick Howell': 2, 'Brian Anderson': 32, 'Corey Farwell': 87, 'Will Hipschman': 144, 'Diggory Blake': 4, 'Huon Wilson': 6, 'Sébastien Marie': 84, 'Christopher Welborn': 94, 'Manish Goregaokar': 4, 'Daniel Micay': 236, 'Harutyun Amirjanyan': 12, 'Fabio Bonelli': 38, 'Renato Zannon': 86}, 'src/docker.rs': {'Alex Crichton': 58, 'Tim Neumann': 4}, 'src/lib.rs': {'Alex Crichton': 87, 'Tim Neumann': 79, 'Jonas Schievink': 128}, 'static/web.html': {'Tim Neumann': 10, 'Scott Olson': 8, 'Alex Crichton': 8, 'Johann Hofmann': 4, 'Matthew Astley': 9, 'Emanuel Czirai': 13, 'Aneesh Agrawal': 18, 'Jonas Schievink': 39, 'Chris Morgan': 49, 'Richo Healey': 6, 'Brian Anderson': 2, 'Will Hipschman': 6, 'Huon Wilson': 4, 'Jared Miller': 2, 'Christopher Welborn': 7, 'Daniel Micay': 51, 'Renato Zannon': 2}, 'docker/': {'Tim Neumann': 13, 'Alex Crichton': 24}, 'docker/bin/': {'Tim Neumann': 13}, 'docker/bin/compile.sh': {'Tim Neumann': 8}, 'docker/bin/evaluate.sh': {'Tim Neumann': 8}, 'docker/Dockerfile-beta': {'Alex Crichton': 6}, 'docker/Dockerfile-nightly': {'Alex Crichton': 6}, 'docker/Dockerfile-stable': {'Alex Crichton': 6}, 'docker/build.sh': {'Alex Crichton': 8}, 'init.sh': {'Alex Crichton': 41, 'Jonas Schievink': 8, 'Till Hoeppner': 3, 'Chris Morgan': 16, 'Daniel Micay': 78}, 'playbot.toml.example': {'Alex Crichton': 4}, '{bin': {'Alex Crichton': 3}, 'docker/install.sh': {'Alex Crichton': 4}, '.gitignore': {'Alex Crichton': 2, 'Jonas Schievink': 2, 'Daniel Micay': 6}, 'playbot.toml': {'Alex Crichton': 0, 'Jonas Schievink': 15}, 'bot.py': {'Alex Crichton': 63, 'Ralph Giles': 2, 'Till Hoeppner': 86, 'Chris Morgan': 4, 'Scott Olson': 0, 'Edward Wang': 0, 'Huon Wilson': 8, 'Johannes Löthberg': 2, 'Filip Szczepański': 8, 'Daniel Micay': 143, 'Zachary Dremann': 2, 'Corey Richardson': 2}, 'mirlexer.py': {'Alex Crichton': 0, 'Georg Brandl': 122}, 'playpen.py': {'Alex Crichton': 1, 'Emanuel Czirai': 65, 'Daniel Micay': 28, 'Huon Wilson': 8, 'Fabio Bonelli': 2}, 'web.py': {'Alex Crichton': 10, 'Georg Brandl': 4, 'Emanuel Czirai': 137, 'Jonas Schievink': 16, 'Richo Healey': 10, 'Chris Morgan': 38, 'Brian Anderson': 5, 'Daniel Micay': 235, 'Huon Wilson': 38}, 'whitelist': {'Alex Crichton': 5, 'Daniel Micay': 59, 'Matthew McPherrin': 2}, 'bin/': {'Georg Brandl': 3, 'Emanuel Czirai': 35, 'Jonas Schievink': 6, 'Alex Crichton': 10, 'Chris Morgan': 23, 'Brian Anderson': 2, 'Huon Wilson': 8, 'Daniel Micay': 101}, 'bin/compile.sh': {'Georg Brandl': 2, 'Emanuel Czirai': 7, 'Chris Morgan': 3, 'Alex Crichton': 2, 'Daniel Micay': 21}, 'bin/evaluate.sh': {'Georg Brandl': 2, 'Emanuel Czirai': 28, 'Jonas Schievink': 6, 'Alex Crichton': 7, 'Chris Morgan': 20, 'Brian Anderson': 2, 'Daniel Micay': 19, 'Huon Wilson': 8}, 'static/web.css': {'Matthew Astley': 12, 'Jonas Schievink': 8, 'Pascal Hertleif': 16, 'Leif Arne Storset': 2, 'Chris Morgan': 189, 'Will Hipschman': 2, 'Diggory Blake': 0, 'Daniel Micay': 101, 'Fabio Bonelli': 10}, 'bin/format.sh': {'Jonas Schievink': 0, 'Huon Wilson': 2, 'Alex Crichton': 3, 'Daniel Micay': 19}, 'featureck.py': {'Till Hoeppner': 59}, 'static/rust.png': {'Chris Morgan': 0}, 'static/sample/': {'Daniel Micay': 10}, 'static/sample/0.rs': {'Daniel Micay': 4}, 'static/sample/1.rs': {'Daniel Micay': 6}, 'bin/irc.sh': {'Daniel Micay': 44, 'Chris Morgan': 2, 'Huon Wilson': 4}, 'LICENSE': {'Daniel Micay': 22}}}\n"
     ]
    }
   ],
   "source": [
    "print(project_dict)"
   ]
  },
  {
   "cell_type": "code",
   "execution_count": null,
   "metadata": {},
   "outputs": [],
   "source": []
  }
 ],
 "metadata": {
  "kernelspec": {
   "display_name": "Python 3",
   "language": "python",
   "name": "python3"
  },
  "language_info": {
   "codemirror_mode": {
    "name": "ipython",
    "version": 3
   },
   "file_extension": ".py",
   "mimetype": "text/x-python",
   "name": "python",
   "nbconvert_exporter": "python",
   "pygments_lexer": "ipython3",
   "version": "3.8.5"
  }
 },
 "nbformat": 4,
 "nbformat_minor": 4
}
