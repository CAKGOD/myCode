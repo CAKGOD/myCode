{
 "cells": [
  {
   "cell_type": "code",
   "execution_count": 13,
   "metadata": {},
   "outputs": [],
   "source": [
    "import pickle\n",
    "import io\n",
    "import os\n",
    "import re\n",
    "import nltk\n",
    "import jieba_fast.posseg as pseg\n",
    "import jieba_fast  as jieba\n",
    "#from pyltp import SentenceSplitter\n",
    "from nltk.tokenize import WordPunctTokenizer \n",
    "from snownlp import SnowNLP\n",
    "from sklearn.feature_extraction.text import CountVectorizer\n",
    "import numpy as np\n",
    "from sklearn.utils import shuffle\n",
    "from tqdm import tqdm_notebook\n",
    "from nltk.corpus import stopwords\n",
    "from top2vec import Top2Vec\n",
    "from tqdm import tqdm\n",
    "import pandas as pd\n",
    "tqdm.pandas(desc='pandas bar')"
   ]
  },
  {
   "cell_type": "code",
   "execution_count": 14,
   "metadata": {},
   "outputs": [],
   "source": [
    "stoplist =[i.strip() for i in open('../../../data/nlp数据/中文停用词/中文停用词.txt', encoding='utf-8').readlines()] \n",
    " \n",
    "\n",
    "def preprocess(document):\n",
    "    string = '''！？｡＂＃＄％＆＇（）＊＋，－／：；＜＝＞＠［＼］＾＿｀｛｜｝～｟｠｢｣､、〃》「」『』【】〔〕〖〗〘〙〚〛〜〝〞〟〰〾〿–—‘'‛“”„‟…‧﹏.'''\n",
    "    text =re.sub(string,\"\",document)\n",
    "    document = re.sub(r'@[\\w_-]+', '', document)\n",
    "    document = re.sub(r'-', ' ', document)\n",
    "    document = re.sub('https?://[^ ]+', '', document)\n",
    "    document= ' '.join(re.sub(\"(@[A-Za-z0-9]+)|([^0-9A-Za-z \\t]) | (\\w +:\\ / \\ / \\S +)\", \" \", document).split())   \n",
    "    document = re.sub(r'<[^>]*>', '', document)\n",
    "    document = re.sub(r'\\[(.+)\\][(].+[)]', r'\\1', document)\n",
    "    document = document.lower()\n",
    "    return document "
   ]
  },
  {
   "cell_type": "code",
   "execution_count": null,
   "metadata": {},
   "outputs": [],
   "source": []
  },
  {
   "cell_type": "code",
   "execution_count": 15,
   "metadata": {},
   "outputs": [],
   "source": [
    "doc = '''\n",
    "11月上旬，在杭州市西湖区第五十届中小学生田径运动会初中组一百米赛跑中，“一名女生一骑绝尘，将对手远远甩在后面”的视频冲上了热搜。这名女生叫陆启睿，是杭州保俶塔实验学校九年级学生，网友们称她“风一样的女孩”。在这届运动会上，陆启睿毫无悬念地包揽包揽女子组100米、200米双项冠军。而100米12秒07、200米25秒11的成绩，也超过了我国女子一级运动员100米12.33秒、200米25.42秒的标准。\n",
    "\n",
    "陆启睿的父亲接受当地媒体记者采访时表示，杭州保俶塔实验学校是个体育强校，很重视挖掘孩子们的体育天赋。小学四年级，因为跑步快，陆启睿正式进入学校田径队。训练比较辛苦，每天早上6点起床，6点半到学校运动场，周末只休息一天，寒来暑往一练就是5年。“她小学六年级时，就是全市200米第一名，但这次上热搜，引起全国关注感到意外。”\n",
    "\n",
    "小陆和清华大学十项全能教练马汝平\n",
    "小陆和清华大学十项全能教练马汝平杭州保俶塔实验学校田径队教练吕晓雨说，田径就是跑，练力量练素质，比较枯燥。其实就跟文化课一样， 需要持之以恒的过程。“陆启睿给所有教练的一个感觉就是很内敛，平时不说话，默默地训练，她几乎是不请假的。”\n",
    "\n",
    "上周清华附中马约翰体育特长班邀请陆启睿前往北京参加试训。清华附中马约翰体育特长班创办于1986年。“马约翰班”的招生对象是有体育特长、有培养前途的中学生。据不完全统计，创办至今，已培养6名国际健将、30名运动健将、273名一级运动员，包括何姿、施廷懋、周吕鑫、李翔宇、王宇、郭凯等著名运动员。\n",
    "\n",
    "陆启睿父亲介绍，试训时间为期3天，孩子跟着清华附中的田径队一起进行热身、拉伸运动，也测了100米、200米的成绩。除了看成绩，专业教练也会看孩子整体的身体素质，比如身体的比例、肌肉线条等等，还要看性格是否合适。三天试训下来，教练对女儿的基本水平还是比较满意的，已经被正式录取。“清华附中很重视文化学习，我们感受了一下，学习氛围很好，如果一切顺利，孩子升入高中参加更加系统的训练，未来可以考入清华大学。”\n",
    "'''"
   ]
  },
  {
   "cell_type": "code",
   "execution_count": 16,
   "metadata": {},
   "outputs": [
    {
     "name": "stderr",
     "output_type": "stream",
     "text": [
      "Building prefix dict from the default dictionary ...\n",
      "Dumping model to file cache /tmp/jieba.cache\n",
      "Loading model cost 0.482 seconds.\n",
      "Prefix dict has been built succesfully.\n"
     ]
    }
   ],
   "source": [
    "jieba.add_word('清华附中')\n",
    "jieba.add_word('陆启睿')\n",
    "jieba.add_word('杭州保俶塔实验学校')\n",
    "jieba.add_word('马约翰体育特长班')"
   ]
  },
  {
   "cell_type": "code",
   "execution_count": 17,
   "metadata": {},
   "outputs": [],
   "source": [
    "doc = ' '.join(jieba.lcut(preprocess(doc)))"
   ]
  },
  {
   "cell_type": "code",
   "execution_count": 18,
   "metadata": {},
   "outputs": [
    {
     "name": "stdout",
     "output_type": "stream",
     "text": [
      "11 月 上旬 ， 在 杭州市 西湖区 第五 十届 中小学生 田径运动 会 初中 组一 百米赛跑 中 ， “ 一名 女生 一骑 绝尘 ， 将 对手 远远 甩 在 后面 ” 的 视频 冲上 了 热 搜 。 这名 女生 叫 陆启睿 ， 是 杭州保俶塔实验学校 九年 级 学生 ， 网友 们 称 她 “ 风 一样 的 女孩 ” 。 在 这届 运动会 上 ， 陆启睿 毫无 悬念 地 包揽 包揽 女子组 100 米 、 200 米 双项 冠军 。 而 100 米 12 秒 07 、 200 米 25 秒 11 的 成绩 ， 也 超过 了 我国 女子 一级 运动员 100 米 12.33 秒 、 200 米 25.42 秒 的 标准 。   陆启睿 的 父亲 接受 当地 媒体 记者 采访 时 表示 ， 杭州保俶塔实验学校 是 个 体育 强校 ， 很 重视 挖掘 孩子 们 的 体育 天赋 。 小学 四年级 ， 因为 跑步 快 ， 陆启睿 正式 进入 学校 田径队 。 训练 比较 辛苦 ， 每天 早上 6 点 起床 ， 6 点半到 学校 运动场 ， 周末 只 休息 一天 ， 寒来暑往 一 练就 是 5 年 。 “ 她 小学 六年级 时 ， 就是 全市 200 米 第一名 ， 但 这次 上 热 搜 ， 引起 全国 关注 感到 意外 。 ”   小陆 和 清华大学 十项全能 教练 马汝平   小陆 和 清华大学 十项全能 教练 马汝平 杭州保俶塔实验学校 田径队 教练 吕晓雨 说 ， 田径 就是 跑 ， 练 力量 练 素质 ， 比较 枯燥 。 其实 就 跟 文化课 一样   需要 持之以恒 的 过程 。 “ 陆启睿 给 所有 教练 的 一个 感觉 就是 很 内敛 ， 平时 不 说话 ， 默默地 训练 ， 她 几乎 是 不 请假 的 。 ”   上周 清华附中 马约翰体育特长班 邀请 陆启睿 前往 北京 参加 试训 。 清华附中 马约翰体育特长班 创办 于 1986 年 。 “ 马 约翰 班 ” 的 招生 对象 是 有 体育 特长 、 有 培养 前途 的 中学生 。 据 不 完全 统计 ， 创办 至今 ， 已 培养 6 名 国际 健将 、 30 名 运动健将 、 273 名 一级 运动员 ， 包括 何姿 、 施廷懋 、 周吕鑫 、 李 翔宇 、 王宇 、 郭凯 等 著名 运动员 。   陆启睿 父亲 介绍 ， 试训 时间 为期 3 天 ， 孩子 跟着 清华附中 的 田径队 一起 进行 热身 、 拉伸 运动 ， 也 测 了 100 米 、 200 米 的 成绩 。 除了 看 成绩 ， 专业 教练 也 会 看 孩子 整体 的 身体素质 ， 比如 身体 的 比例 、 肌肉 线条 等等 ， 还要 看 性格 是否 合适 。 三天 试训 下来 ， 教练 对 女儿 的 基本 水平 还是 比较满意 的 ， 已经 被 正式 录取 。 “ 清华附中 很 重视 文化 学习 ， 我们 感受 了 一下 ， 学习 氛围 很 好 ， 如果 一切顺利 ， 孩子 升入 高中 参加 更加 系统 的 训练 ， 未来 可以 考入 清华大学 。 ”\n"
     ]
    }
   ],
   "source": [
    "print(doc)"
   ]
  },
  {
   "cell_type": "code",
   "execution_count": 19,
   "metadata": {},
   "outputs": [],
   "source": [
    "n_gram_range = (1,1)\n",
    "stop_words = stoplist\n",
    "\n",
    "# Extract candidate words/phrases\n",
    "count = CountVectorizer(ngram_range=n_gram_range, stop_words=stop_words).fit([doc])\n",
    "candidates = count.get_feature_names()"
   ]
  },
  {
   "cell_type": "code",
   "execution_count": 20,
   "metadata": {},
   "outputs": [
    {
     "name": "stdout",
     "output_type": "stream",
     "text": [
      "CountVectorizer(stop_words=['$', '0', '1', '2', '3', '4', '5', '6', '7', '8',\n",
      "                            '9', '?', '_', '“', '”', '、', '。', '《', '》', '一',\n",
      "                            '一些', '一何', '一切', '一则', '一方面', '一旦', '一来', '一样',\n",
      "                            '一般', '一转眼', ...])\n",
      "['07', '100', '11', '12', '1986', '200', '25', '273', '30', '33', '42', '一下', '一个', '一切顺利', '一名', '一天', '一级', '一起', '一骑', '三天', '上周', '上旬', '下来', '专业', '中学生', '中小学生', '为期', '九年', '介绍', '休息', '体育', '何姿', '健将', '全国', '全市', '六年级', '关注', '其实', '内敛', '冠军', '冲上', '几乎', '创办', '初中', '前往', '前途', '力量', '包括', '包揽', '北京', '十届', '十项全能', '升入', '参加', '双项', '合适', '后面', '吕晓雨', '周吕鑫', '周末', '四年级', '国际', '培养', '基本', '天赋', '女儿', '女子', '女子组', '女孩', '女生', '媒体', '学习', '学校', '学生', '孩子', '完全', '寒来暑往', '对手', '对象', '小学', '小陆', '已经', '平时', '引起', '强校', '录取', '性格', '悬念', '意外', '感到', '感受', '感觉', '成绩', '我国', '拉伸', '招生', '持之以恒', '挖掘', '接受', '教练', '整体', '文化', '文化课', '施廷懋', '早上', '时间', '是否', '更加', '未来', '杭州保俶塔实验学校', '杭州市', '枯燥', '标准', '正式', '每天', '比例', '比较', '比较满意', '毫无', '氛围', '水平', '清华大学', '清华附中', '点半到', '热身', '父亲', '特长', '王宇', '田径', '田径运动', '田径队', '百米赛跑', '第一名', '第五', '系统', '素质', '约翰', '线条', '练就', '组一', '绝尘', '统计', '网友', '翔宇', '考入', '肌肉', '著名', '表示', '西湖区', '视频', '训练', '记者', '试训', '说话', '请假', '起床', '超过', '跑步', '跟着', '身体', '身体素质', '辛苦', '过程', '运动', '运动会', '运动健将', '运动员', '运动场', '这名', '这届', '进入', '进行', '远远', '邀请', '郭凯', '采访', '重视', '陆启睿', '需要', '马汝平', '马约翰体育特长班', '高中', '默默地']\n"
     ]
    }
   ],
   "source": [
    "print(count)\n",
    "print(candidates)"
   ]
  },
  {
   "cell_type": "code",
   "execution_count": 21,
   "metadata": {},
   "outputs": [
    {
     "name": "stderr",
     "output_type": "stream",
     "text": [
      "100%|██████████| 1.01G/1.01G [54:55<00:00, 308kB/s]   \n"
     ]
    }
   ],
   "source": [
    "# 如果没有安装sentence_transformers，请先安装，模型文件会自动下载\n",
    "#!pip install sentence_transformers \n",
    "from sentence_transformers import SentenceTransformer\n",
    "\n",
    "model = SentenceTransformer(r'xlm-r-distilroberta-base-paraphrase-v1')"
   ]
  },
  {
   "cell_type": "code",
   "execution_count": 22,
   "metadata": {},
   "outputs": [],
   "source": [
    "doc_embedding = model.encode([doc])\n",
    "candidate_embeddings = model.encode(candidates)"
   ]
  },
  {
   "cell_type": "code",
   "execution_count": 27,
   "metadata": {
    "scrolled": true
   },
   "outputs": [
    {
     "name": "stdout",
     "output_type": "stream",
     "text": [
      "768\n"
     ]
    }
   ],
   "source": [
    "print(len(doc_embedding[0]))"
   ]
  },
  {
   "cell_type": "code",
   "execution_count": 29,
   "metadata": {},
   "outputs": [
    {
     "name": "stdout",
     "output_type": "stream",
     "text": [
      "768\n"
     ]
    }
   ],
   "source": [
    "print(len(candidate_embeddings[0]))"
   ]
  },
  {
   "cell_type": "code",
   "execution_count": 30,
   "metadata": {},
   "outputs": [],
   "source": [
    "from sklearn.metrics.pairwise import cosine_similarity\n",
    "\n",
    "top_n = 15\n",
    "distances = cosine_similarity(doc_embedding, candidate_embeddings)\n",
    "keywords = [candidates[index] for index in distances.argsort()[0][-top_n:]]"
   ]
  },
  {
   "cell_type": "code",
   "execution_count": 31,
   "metadata": {},
   "outputs": [
    {
     "name": "stdout",
     "output_type": "stream",
     "text": [
      "['翔宇', '初中', '中学生', '田径队', '马汝平', '上旬', '吕晓雨', '施廷懋', '陆启睿', '中小学生', '周吕鑫', '清华附中', '杭州市', '清华大学', '杭州保俶塔实验学校']\n"
     ]
    }
   ],
   "source": [
    "print(keywords)"
   ]
  },
  {
   "cell_type": "code",
   "execution_count": null,
   "metadata": {},
   "outputs": [],
   "source": []
  }
 ],
 "metadata": {
  "kernelspec": {
   "display_name": "Python 3",
   "language": "python",
   "name": "python3"
  },
  "language_info": {
   "codemirror_mode": {
    "name": "ipython",
    "version": 3
   },
   "file_extension": ".py",
   "mimetype": "text/x-python",
   "name": "python",
   "nbconvert_exporter": "python",
   "pygments_lexer": "ipython3",
   "version": "3.8.5"
  }
 },
 "nbformat": 4,
 "nbformat_minor": 4
}
